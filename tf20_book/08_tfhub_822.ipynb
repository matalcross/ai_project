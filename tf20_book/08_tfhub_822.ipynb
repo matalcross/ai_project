{
 "cells": [
  {
   "cell_type": "markdown",
   "id": "c213a599",
   "metadata": {},
   "source": [
    "# 텐서플로 허브에서 사전 훈련된 Inception V3의 특징 추출기 불러오기"
   ]
  },
  {
   "cell_type": "code",
   "execution_count": 1,
   "id": "8e60c38f",
   "metadata": {},
   "outputs": [
    {
     "name": "stderr",
     "output_type": "stream",
     "text": [
      "2022-03-03 18:48:34.228222: I tensorflow/core/common_runtime/pluggable_device/pluggable_device_factory.cc:305] Could not identify NUMA node of platform GPU ID 0, defaulting to 0. Your kernel may not have been built with NUMA support.\n",
      "2022-03-03 18:48:34.228628: I tensorflow/core/common_runtime/pluggable_device/pluggable_device_factory.cc:271] Created TensorFlow device (/job:localhost/replica:0/task:0/device:GPU:0 with 0 MB memory) -> physical PluggableDevice (device: 0, name: METAL, pci bus id: <undefined>)\n"
     ]
    },
    {
     "name": "stdout",
     "output_type": "stream",
     "text": [
      "Metal device set to: Apple M1\n",
      "Model: \"sequential\"\n",
      "_________________________________________________________________\n",
      " Layer (type)                Output Shape              Param #   \n",
      "=================================================================\n",
      " keras_layer (KerasLayer)    (None, 2048)              21802784  \n",
      "                                                                 \n",
      "=================================================================\n",
      "Total params: 21,802,784\n",
      "Trainable params: 0\n",
      "Non-trainable params: 21,802,784\n",
      "_________________________________________________________________\n"
     ]
    }
   ],
   "source": [
    "import tensorflow_hub as hub\n",
    "import tensorflow as tf\n",
    "\n",
    "inception_url = 'https://tfhub.dev/google/tf2-preview/inception_v3/feature_vector/4'\n",
    "feature_model = tf.keras.Sequential([\n",
    "    hub.KerasLayer(inception_url, output_shape=(2048,), trainable=False)\n",
    "])\n",
    "\n",
    "feature_model.build([None, 299, 299, 3])\n",
    "feature_model.summary()"
   ]
  },
  {
   "cell_type": "markdown",
   "id": "7e112979",
   "metadata": {},
   "source": [
    "# ImageDataGenerator가 처리할 수 있는 하위 디렉토리 구조로 데이터를 복사"
   ]
  },
  {
   "cell_type": "code",
   "execution_count": 2,
   "id": "121fb450",
   "metadata": {},
   "outputs": [],
   "source": [
    "import os\n",
    "import shutil\n",
    "\n",
    "os.mkdir('./dog-breed-identification/train_sub')"
   ]
  },
  {
   "cell_type": "code",
   "execution_count": 10,
   "id": "a3bf57eb",
   "metadata": {},
   "outputs": [
    {
     "name": "stdout",
     "output_type": "stream",
     "text": [
      "                                 id             breed\n",
      "0  000bec180eb18c7604dcecc8fe0dba07       boston_bull\n",
      "1  001513dfcb2ffafc82cccf4d8bbaba97             dingo\n",
      "2  001cdf01b096e06d78e9e5112d419397          pekinese\n",
      "3  00214f311d5d2247d5dfe4fe24b2303d          bluetick\n",
      "4  0021f9ceb3235effd7fcde7f7538ed62  golden_retriever\n"
     ]
    }
   ],
   "source": [
    "# 8.10 labels.csv 파일 내용 확인\n",
    "import pandas as pd\n",
    "label_text = pd.read_csv('./dog-breed-identification/labels.csv')\n",
    "print(label_text.head())"
   ]
  },
  {
   "cell_type": "code",
   "execution_count": 11,
   "id": "27e36f7e",
   "metadata": {},
   "outputs": [
    {
     "data": {
      "text/html": [
       "<div>\n",
       "<style scoped>\n",
       "    .dataframe tbody tr th:only-of-type {\n",
       "        vertical-align: middle;\n",
       "    }\n",
       "\n",
       "    .dataframe tbody tr th {\n",
       "        vertical-align: top;\n",
       "    }\n",
       "\n",
       "    .dataframe thead th {\n",
       "        text-align: right;\n",
       "    }\n",
       "</style>\n",
       "<table border=\"1\" class=\"dataframe\">\n",
       "  <thead>\n",
       "    <tr style=\"text-align: right;\">\n",
       "      <th></th>\n",
       "      <th>id</th>\n",
       "      <th>breed</th>\n",
       "    </tr>\n",
       "  </thead>\n",
       "  <tbody>\n",
       "    <tr>\n",
       "      <th>0</th>\n",
       "      <td>000bec180eb18c7604dcecc8fe0dba07</td>\n",
       "      <td>boston_bull</td>\n",
       "    </tr>\n",
       "    <tr>\n",
       "      <th>1</th>\n",
       "      <td>001513dfcb2ffafc82cccf4d8bbaba97</td>\n",
       "      <td>dingo</td>\n",
       "    </tr>\n",
       "    <tr>\n",
       "      <th>2</th>\n",
       "      <td>001cdf01b096e06d78e9e5112d419397</td>\n",
       "      <td>pekinese</td>\n",
       "    </tr>\n",
       "    <tr>\n",
       "      <th>3</th>\n",
       "      <td>00214f311d5d2247d5dfe4fe24b2303d</td>\n",
       "      <td>bluetick</td>\n",
       "    </tr>\n",
       "    <tr>\n",
       "      <th>4</th>\n",
       "      <td>0021f9ceb3235effd7fcde7f7538ed62</td>\n",
       "      <td>golden_retriever</td>\n",
       "    </tr>\n",
       "    <tr>\n",
       "      <th>...</th>\n",
       "      <td>...</td>\n",
       "      <td>...</td>\n",
       "    </tr>\n",
       "    <tr>\n",
       "      <th>10217</th>\n",
       "      <td>ffd25009d635cfd16e793503ac5edef0</td>\n",
       "      <td>borzoi</td>\n",
       "    </tr>\n",
       "    <tr>\n",
       "      <th>10218</th>\n",
       "      <td>ffd3f636f7f379c51ba3648a9ff8254f</td>\n",
       "      <td>dandie_dinmont</td>\n",
       "    </tr>\n",
       "    <tr>\n",
       "      <th>10219</th>\n",
       "      <td>ffe2ca6c940cddfee68fa3cc6c63213f</td>\n",
       "      <td>airedale</td>\n",
       "    </tr>\n",
       "    <tr>\n",
       "      <th>10220</th>\n",
       "      <td>ffe5f6d8e2bff356e9482a80a6e29aac</td>\n",
       "      <td>miniature_pinscher</td>\n",
       "    </tr>\n",
       "    <tr>\n",
       "      <th>10221</th>\n",
       "      <td>fff43b07992508bc822f33d8ffd902ae</td>\n",
       "      <td>chesapeake_bay_retriever</td>\n",
       "    </tr>\n",
       "  </tbody>\n",
       "</table>\n",
       "<p>10222 rows × 2 columns</p>\n",
       "</div>"
      ],
      "text/plain": [
       "                                     id                     breed\n",
       "0      000bec180eb18c7604dcecc8fe0dba07               boston_bull\n",
       "1      001513dfcb2ffafc82cccf4d8bbaba97                     dingo\n",
       "2      001cdf01b096e06d78e9e5112d419397                  pekinese\n",
       "3      00214f311d5d2247d5dfe4fe24b2303d                  bluetick\n",
       "4      0021f9ceb3235effd7fcde7f7538ed62          golden_retriever\n",
       "...                                 ...                       ...\n",
       "10217  ffd25009d635cfd16e793503ac5edef0                    borzoi\n",
       "10218  ffd3f636f7f379c51ba3648a9ff8254f            dandie_dinmont\n",
       "10219  ffe2ca6c940cddfee68fa3cc6c63213f                  airedale\n",
       "10220  ffe5f6d8e2bff356e9482a80a6e29aac        miniature_pinscher\n",
       "10221  fff43b07992508bc822f33d8ffd902ae  chesapeake_bay_retriever\n",
       "\n",
       "[10222 rows x 2 columns]"
      ]
     },
     "execution_count": 11,
     "metadata": {},
     "output_type": "execute_result"
    }
   ],
   "source": [
    "label_text"
   ]
  },
  {
   "cell_type": "code",
   "execution_count": 12,
   "id": "75f2436e",
   "metadata": {},
   "outputs": [],
   "source": [
    "for i in range(len(label_text)):\n",
    "    if os.path.exists('./dog-breed-identification/train_sub/' + label_text.loc[i]['breed']) == False:\n",
    "        os.mkdir('./dog-breed-identification/train_sub/' + label_text.loc[i]['breed'])\n",
    "    shutil.copy('./dog-breed-identification/train/' + label_text.loc[i]['id'] + '.jpg', './dog-breed-identification/train_sub/' + label_text.loc[i]['breed'])"
   ]
  },
  {
   "cell_type": "markdown",
   "id": "04608bfc",
   "metadata": {},
   "source": [
    "# ImageDataGenerator를 이용한 훈련 및 검증 데이터 분리, 이미지 보강"
   ]
  },
  {
   "cell_type": "code",
   "execution_count": 13,
   "id": "ad4c73f0",
   "metadata": {},
   "outputs": [
    {
     "name": "stdout",
     "output_type": "stream",
     "text": [
      "Found 7718 images belonging to 120 classes.\n",
      "Found 2504 images belonging to 120 classes.\n"
     ]
    }
   ],
   "source": [
    "from tensorflow.python.keras.preprocessing.image import ImageDataGenerator\n",
    "from keras.applications.inception_resnet_v2 import preprocess_input\n",
    "\n",
    "image_size = 299\n",
    "batch_size = 32\n",
    "\n",
    "train_datagen = ImageDataGenerator(rescale=1./255., \n",
    "                                  horizontal_flip=True, \n",
    "                                  shear_range=0.2,\n",
    "                                  zoom_range=0.2,\n",
    "                                  width_shift_range=0.2,\n",
    "                                  height_shift_range=0.2,\n",
    "                                  validation_split=0.25)\n",
    "valid_datagen = ImageDataGenerator(rescale=1./255., validation_split=0.25)\n",
    "\n",
    "train_generator = train_datagen.flow_from_directory(\n",
    "    directory=\"./dog-breed-identification/train_sub/\",\n",
    "    subset=\"training\",\n",
    "    batch_size=batch_size,\n",
    "    seed=42,\n",
    "    shuffle=True,\n",
    "    class_mode=\"categorical\",\n",
    "    target_size=(image_size, image_size))\n",
    "valid_generator = valid_datagen.flow_from_directory(\n",
    "    directory=\"./dog-breed-identification/train_sub/\",\n",
    "    subset=\"validation\",\n",
    "    batch_size=1,\n",
    "    seed=42,\n",
    "    shuffle=True,\n",
    "    class_mode=\"categorical\",\n",
    "    target_size=(image_size, image_size))"
   ]
  },
  {
   "cell_type": "markdown",
   "id": "ba5afcb5",
   "metadata": {},
   "source": [
    "# 훈련 데이터를 특징 벡터로 변환"
   ]
  },
  {
   "cell_type": "code",
   "execution_count": null,
   "id": "cf83b5a4",
   "metadata": {},
   "outputs": [
    {
     "name": "stdout",
     "output_type": "stream",
     "text": [
      "0\n"
     ]
    },
    {
     "name": "stderr",
     "output_type": "stream",
     "text": [
      "2022-03-03 22:07:00.600428: W tensorflow/core/platform/profile_utils/cpu_utils.cc:128] Failed to get CPU frequency: 0 Hz\n",
      "2022-03-03 22:07:00.830358: I tensorflow/core/grappler/optimizers/custom_graph_optimizer_registry.cc:112] Plugin optimizer for device_type GPU is enabled.\n"
     ]
    },
    {
     "name": "stdout",
     "output_type": "stream",
     "text": [
      "100\n",
      "200\n"
     ]
    },
    {
     "name": "stderr",
     "output_type": "stream",
     "text": [
      "2022-03-03 22:11:27.020817: I tensorflow/core/grappler/optimizers/custom_graph_optimizer_registry.cc:112] Plugin optimizer for device_type GPU is enabled.\n"
     ]
    },
    {
     "name": "stdout",
     "output_type": "stream",
     "text": [
      "300\n",
      "400\n",
      "500\n",
      "600\n",
      "700\n",
      "800\n",
      "900\n",
      "1000\n",
      "1100\n",
      "1200\n",
      "1300\n",
      "1400\n",
      "1500\n",
      "1600\n",
      "1700\n",
      "1800\n",
      "1900\n",
      "2000\n",
      "2100\n",
      "2200\n",
      "2300\n",
      "2400\n",
      "2500\n",
      "2600\n",
      "2700\n"
     ]
    }
   ],
   "source": [
    "batch_step = (7718 * 3)\n",
    "train_features = []\n",
    "train_Y = []\n",
    "for idx in range(batch_step):\n",
    "    if idx % 100 == 0:\n",
    "        print(idx)\n",
    "    x, y = train_generator.next()\n",
    "    train_Y.extend(y)\n",
    "    \n",
    "    feature = feature_model.predict(x)\n",
    "    train_features.extend(feature)\n",
    "    \n",
    "train_features = np.array(train_features)\n",
    "train_Y = np.array(train_Y)\n",
    "\n",
    "print(train_features.shape)\n",
    "print(train_Y.shape)"
   ]
  },
  {
   "cell_type": "code",
   "execution_count": null,
   "id": "aacaeb6a",
   "metadata": {},
   "outputs": [],
   "source": []
  }
 ],
 "metadata": {
  "kernelspec": {
   "display_name": "Python 3 (ipykernel)",
   "language": "python",
   "name": "python3"
  },
  "language_info": {
   "codemirror_mode": {
    "name": "ipython",
    "version": 3
   },
   "file_extension": ".py",
   "mimetype": "text/x-python",
   "name": "python",
   "nbconvert_exporter": "python",
   "pygments_lexer": "ipython3",
   "version": "3.9.7"
  }
 },
 "nbformat": 4,
 "nbformat_minor": 5
}
