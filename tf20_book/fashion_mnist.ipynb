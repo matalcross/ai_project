{
 "cells": [
  {
   "cell_type": "code",
   "execution_count": 2,
   "id": "8edff319",
   "metadata": {},
   "outputs": [],
   "source": [
    "import tensorflow as tf"
   ]
  },
  {
   "cell_type": "code",
   "execution_count": 3,
   "id": "f9c859ef",
   "metadata": {},
   "outputs": [
    {
     "name": "stdout",
     "output_type": "stream",
     "text": [
      "Downloading data from https://storage.googleapis.com/tensorflow/tf-keras-datasets/train-labels-idx1-ubyte.gz\n",
      "32768/29515 [=================================] - 0s 0us/step\n",
      "40960/29515 [=========================================] - 0s 0us/step\n",
      "Downloading data from https://storage.googleapis.com/tensorflow/tf-keras-datasets/train-images-idx3-ubyte.gz\n",
      "26427392/26421880 [==============================] - 2s 0us/step\n",
      "26435584/26421880 [==============================] - 2s 0us/step\n",
      "Downloading data from https://storage.googleapis.com/tensorflow/tf-keras-datasets/t10k-labels-idx1-ubyte.gz\n",
      "16384/5148 [===============================================================================================] - 0s 0us/step\n",
      "Downloading data from https://storage.googleapis.com/tensorflow/tf-keras-datasets/t10k-images-idx3-ubyte.gz\n",
      "4423680/4422102 [==============================] - 0s 0us/step\n",
      "4431872/4422102 [==============================] - 0s 0us/step\n",
      "60000 10000\n"
     ]
    }
   ],
   "source": [
    "fashion_mnist = tf.keras.datasets.fashion_mnist\n",
    "(train_X, train_Y), (test_X, test_Y) = fashion_mnist.load_data()\n",
    "\n",
    "print(len(train_X), len(test_X))"
   ]
  },
  {
   "cell_type": "code",
   "execution_count": 8,
   "id": "514066cf",
   "metadata": {},
   "outputs": [
    {
     "data": {
      "image/png": "[encoded data removed]",
      "text/plain": [
       "<Figure size 432x288 with 2 Axes>"
      ]
     },
     "metadata": {
      "needs_background": "light"
     },
     "output_type": "display_data"
    },
    {
     "name": "stdout",
     "output_type": "stream",
     "text": [
      "9\n"
     ]
    }
   ],
   "source": [
    "import matplotlib.pyplot as plt\n",
    "plt.imshow(train_X[0], cmap='gray')\n",
    "plt.colorbar()\n",
    "plt.show()\n",
    "\n",
    "print(train_Y[0])"
   ]
  },
  {
   "cell_type": "code",
   "execution_count": 10,
   "id": "1624f2d0",
   "metadata": {},
   "outputs": [
    {
     "name": "stdout",
     "output_type": "stream",
     "text": [
      "[[0.00000000e+00 0.00000000e+00 0.00000000e+00 0.00000000e+00\n",
      "  0.00000000e+00 0.00000000e+00 0.00000000e+00 0.00000000e+00\n",
      "  0.00000000e+00 0.00000000e+00 0.00000000e+00 0.00000000e+00\n",
      "  0.00000000e+00 0.00000000e+00 0.00000000e+00 0.00000000e+00\n",
      "  0.00000000e+00 0.00000000e+00 0.00000000e+00 0.00000000e+00\n",
      "  0.00000000e+00 0.00000000e+00 0.00000000e+00 0.00000000e+00\n",
      "  0.00000000e+00 0.00000000e+00 0.00000000e+00 0.00000000e+00]\n",
      " [0.00000000e+00 0.00000000e+00 0.00000000e+00 0.00000000e+00\n",
      "  0.00000000e+00 0.00000000e+00 0.00000000e+00 0.00000000e+00\n",
      "  0.00000000e+00 0.00000000e+00 0.00000000e+00 0.00000000e+00\n",
      "  0.00000000e+00 0.00000000e+00 0.00000000e+00 0.00000000e+00\n",
      "  0.00000000e+00 0.00000000e+00 0.00000000e+00 0.00000000e+00\n",
      "  0.00000000e+00 0.00000000e+00 0.00000000e+00 0.00000000e+00\n",
      "  0.00000000e+00 0.00000000e+00 0.00000000e+00 0.00000000e+00]\n",
      " [0.00000000e+00 0.00000000e+00 0.00000000e+00 0.00000000e+00\n",
      "  0.00000000e+00 0.00000000e+00 0.00000000e+00 0.00000000e+00\n",
      "  0.00000000e+00 0.00000000e+00 0.00000000e+00 0.00000000e+00\n",
      "  0.00000000e+00 0.00000000e+00 0.00000000e+00 0.00000000e+00\n",
      "  0.00000000e+00 0.00000000e+00 0.00000000e+00 0.00000000e+00\n",
      "  0.00000000e+00 0.00000000e+00 0.00000000e+00 0.00000000e+00\n",
      "  0.00000000e+00 0.00000000e+00 0.00000000e+00 0.00000000e+00]\n",
      " [0.00000000e+00 0.00000000e+00 0.00000000e+00 0.00000000e+00\n",
      "  0.00000000e+00 0.00000000e+00 0.00000000e+00 0.00000000e+00\n",
      "  0.00000000e+00 0.00000000e+00 0.00000000e+00 0.00000000e+00\n",
      "  1.53787005e-05 0.00000000e+00 0.00000000e+00 1.99923106e-04\n",
      "  1.12264514e-03 0.00000000e+00 0.00000000e+00 1.53787005e-05\n",
      "  6.15148020e-05 0.00000000e+00 0.00000000e+00 0.00000000e+00\n",
      "  0.00000000e+00 1.53787005e-05 1.53787005e-05 0.00000000e+00]\n",
      " [0.00000000e+00 0.00000000e+00 0.00000000e+00 0.00000000e+00\n",
      "  0.00000000e+00 0.00000000e+00 0.00000000e+00 0.00000000e+00\n",
      "  0.00000000e+00 0.00000000e+00 0.00000000e+00 0.00000000e+00\n",
      "  4.61361015e-05 0.00000000e+00 5.53633218e-04 2.09150327e-03\n",
      "  1.95309496e-03 9.53479431e-04 8.30449827e-04 0.00000000e+00\n",
      "  0.00000000e+00 0.00000000e+00 1.53787005e-05 4.61361015e-05\n",
      "  6.15148020e-05 0.00000000e+00 0.00000000e+00 4.61361015e-05]\n",
      " [0.00000000e+00 0.00000000e+00 0.00000000e+00 0.00000000e+00\n",
      "  0.00000000e+00 0.00000000e+00 0.00000000e+00 0.00000000e+00\n",
      "  0.00000000e+00 0.00000000e+00 0.00000000e+00 0.00000000e+00\n",
      "  9.22722030e-05 0.00000000e+00 1.56862745e-03 3.13725490e-03\n",
      "  2.70665129e-03 2.06074587e-03 2.21453287e-03 1.89158016e-03\n",
      "  3.53710111e-04 0.00000000e+00 0.00000000e+00 0.00000000e+00\n",
      "  0.00000000e+00 1.84544406e-04 1.53787005e-04 0.00000000e+00]\n",
      " [0.00000000e+00 0.00000000e+00 0.00000000e+00 0.00000000e+00\n",
      "  0.00000000e+00 0.00000000e+00 0.00000000e+00 0.00000000e+00\n",
      "  0.00000000e+00 0.00000000e+00 0.00000000e+00 0.00000000e+00\n",
      "  0.00000000e+00 0.00000000e+00 2.38369858e-03 3.62937332e-03\n",
      "  3.18339100e-03 2.73740869e-03 1.64552095e-03 2.39907728e-03\n",
      "  2.47597078e-03 1.67627835e-03 9.84236832e-04 3.53710111e-04\n",
      "  1.18415994e-03 1.99923106e-03 1.10726644e-03 2.30680507e-04]\n",
      " [0.00000000e+00 0.00000000e+00 0.00000000e+00 0.00000000e+00\n",
      "  0.00000000e+00 0.00000000e+00 0.00000000e+00 0.00000000e+00\n",
      "  0.00000000e+00 0.00000000e+00 0.00000000e+00 1.53787005e-05\n",
      "  0.00000000e+00 1.06113033e-03 3.18339100e-03 3.42945021e-03\n",
      "  3.35255671e-03 3.32179931e-03 3.32179931e-03 2.50672818e-03\n",
      "  1.95309496e-03 1.86082276e-03 1.87620146e-03 2.24529027e-03\n",
      "  2.16839677e-03 1.35332564e-03 2.64513649e-03 1.01499423e-03]\n",
      " [0.00000000e+00 0.00000000e+00 0.00000000e+00 0.00000000e+00\n",
      "  0.00000000e+00 0.00000000e+00 0.00000000e+00 0.00000000e+00\n",
      "  0.00000000e+00 1.53787005e-05 1.53787005e-05 1.53787005e-05\n",
      "  0.00000000e+00 3.07574010e-03 3.56785852e-03 3.56785852e-03\n",
      "  3.58323722e-03 3.52172241e-03 3.42945021e-03 3.42945021e-03\n",
      "  3.30642061e-03 3.27566321e-03 2.52210688e-03 1.95309496e-03\n",
      "  1.89158016e-03 3.01422530e-03 3.52172241e-03 0.00000000e+00]\n",
      " [0.00000000e+00 0.00000000e+00 0.00000000e+00 0.00000000e+00\n",
      "  0.00000000e+00 0.00000000e+00 0.00000000e+00 0.00000000e+00\n",
      "  0.00000000e+00 0.00000000e+00 0.00000000e+00 0.00000000e+00\n",
      "  0.00000000e+00 2.81430219e-03 3.46020761e-03 3.32179931e-03\n",
      "  3.42945021e-03 3.50634371e-03 3.61399462e-03 3.49096501e-03\n",
      "  3.44482891e-03 3.41407151e-03 3.44482891e-03 3.39869281e-03\n",
      "  3.42945021e-03 3.76778162e-03 2.66051519e-03 0.00000000e+00]\n",
      " [0.00000000e+00 0.00000000e+00 0.00000000e+00 0.00000000e+00\n",
      "  0.00000000e+00 0.00000000e+00 0.00000000e+00 0.00000000e+00\n",
      "  0.00000000e+00 0.00000000e+00 0.00000000e+00 0.00000000e+00\n",
      "  0.00000000e+00 2.96808920e-03 3.50634371e-03 3.35255671e-03\n",
      "  3.27566321e-03 3.04498270e-03 2.76816609e-03 3.26028451e-03\n",
      "  3.22952710e-03 3.24490581e-03 3.27566321e-03 3.42945021e-03\n",
      "  3.38331411e-03 3.73702422e-03 3.10649750e-03 0.00000000e+00]\n",
      " [0.00000000e+00 0.00000000e+00 0.00000000e+00 0.00000000e+00\n",
      "  0.00000000e+00 0.00000000e+00 0.00000000e+00 0.00000000e+00\n",
      "  0.00000000e+00 1.53787005e-05 4.61361015e-05 0.00000000e+00\n",
      "  1.84544406e-04 3.36793541e-03 3.38331411e-03 3.26028451e-03\n",
      "  3.35255671e-03 2.95271050e-03 2.59900038e-03 3.49096501e-03\n",
      "  3.19876970e-03 3.35255671e-03 3.44482891e-03 3.26028451e-03\n",
      "  3.47558631e-03 3.02960400e-03 3.21414840e-03 7.99692426e-04]\n",
      " [0.00000000e+00 0.00000000e+00 0.00000000e+00 0.00000000e+00\n",
      "  0.00000000e+00 0.00000000e+00 0.00000000e+00 0.00000000e+00\n",
      "  0.00000000e+00 0.00000000e+00 9.22722030e-05 0.00000000e+00\n",
      "  1.52249135e-03 3.75240292e-03 3.41407151e-03 3.38331411e-03\n",
      "  3.35255671e-03 3.12187620e-03 3.04498270e-03 3.39869281e-03\n",
      "  3.30642061e-03 3.27566321e-03 3.41407151e-03 3.38331411e-03\n",
      "  3.76778162e-03 1.83006536e-03 2.56824298e-03 8.61207228e-04]\n",
      " [0.00000000e+00 0.00000000e+00 0.00000000e+00 0.00000000e+00\n",
      "  0.00000000e+00 0.00000000e+00 0.00000000e+00 0.00000000e+00\n",
      "  0.00000000e+00 6.15148020e-05 0.00000000e+00 0.00000000e+00\n",
      "  8.45828527e-04 3.62937332e-03 3.50634371e-03 3.53710111e-03\n",
      "  3.50634371e-03 3.69088812e-03 3.56785852e-03 3.27566321e-03\n",
      "  3.35255671e-03 3.42945021e-03 3.59861592e-03 3.33717801e-03\n",
      "  3.33717801e-03 3.21414840e-03 1.41484045e-03 0.00000000e+00]\n",
      " [0.00000000e+00 0.00000000e+00 1.53787005e-05 6.15148020e-05\n",
      "  9.22722030e-05 1.07650903e-04 3.07574010e-05 0.00000000e+00\n",
      "  0.00000000e+00 0.00000000e+00 0.00000000e+00 0.00000000e+00\n",
      "  3.64475202e-03 3.47558631e-03 3.33717801e-03 3.42945021e-03\n",
      "  3.41407151e-03 3.36793541e-03 3.41407151e-03 3.39869281e-03\n",
      "  3.32179931e-03 3.42945021e-03 3.52172241e-03 3.30642061e-03\n",
      "  3.35255671e-03 3.92156863e-03 1.18415994e-03 0.00000000e+00]\n",
      " [0.00000000e+00 4.61361015e-05 0.00000000e+00 0.00000000e+00\n",
      "  0.00000000e+00 0.00000000e+00 0.00000000e+00 0.00000000e+00\n",
      "  0.00000000e+00 9.53479431e-04 2.22991157e-03 3.13725490e-03\n",
      "  3.50634371e-03 3.18339100e-03 3.27566321e-03 3.39869281e-03\n",
      "  3.35255671e-03 3.19876970e-03 3.24490581e-03 3.35255671e-03\n",
      "  3.44482891e-03 3.42945021e-03 3.36793541e-03 3.30642061e-03\n",
      "  3.44482891e-03 3.75240292e-03 2.44521338e-03 0.00000000e+00]\n",
      " [0.00000000e+00 0.00000000e+00 0.00000000e+00 0.00000000e+00\n",
      "  2.76816609e-04 6.76662822e-04 1.26105344e-03 1.64552095e-03\n",
      "  2.90657439e-03 3.50634371e-03 3.38331411e-03 3.41407151e-03\n",
      "  3.33717801e-03 3.47558631e-03 3.07574010e-03 3.15263360e-03\n",
      "  3.24490581e-03 3.53710111e-03 3.44482891e-03 3.59861592e-03\n",
      "  2.70665129e-03 2.89119569e-03 3.84467512e-03 3.81391772e-03\n",
      "  3.58323722e-03 3.66013072e-03 3.30642061e-03 0.00000000e+00]\n",
      " [0.00000000e+00 8.76585928e-04 2.87581699e-03 3.19876970e-03\n",
      "  3.44482891e-03 3.39869281e-03 3.44482891e-03 3.19876970e-03\n",
      "  3.13725490e-03 3.29104191e-03 3.19876970e-03 3.21414840e-03\n",
      "  3.07574010e-03 2.44521338e-03 3.76778162e-03 2.96808920e-03\n",
      "  3.16801230e-03 3.42945021e-03 3.92156863e-03 3.92156863e-03\n",
      "  3.39869281e-03 3.59861592e-03 3.39869281e-03 3.24490581e-03\n",
      "  3.38331411e-03 3.56785852e-03 3.78316032e-03 0.00000000e+00]\n",
      " [4.61361015e-05 3.10649750e-03 3.50634371e-03 3.44482891e-03\n",
      "  3.39869281e-03 3.24490581e-03 3.24490581e-03 3.29104191e-03\n",
      "  3.15263360e-03 3.15263360e-03 3.15263360e-03 3.38331411e-03\n",
      "  3.69088812e-03 1.23029604e-03 2.30680507e-03 3.92156863e-03\n",
      "  3.52172241e-03 3.39869281e-03 2.89119569e-03 2.36831988e-03\n",
      "  2.93733180e-03 3.22952710e-03 3.13725490e-03 3.21414840e-03\n",
      "  3.41407151e-03 3.50634371e-03 3.46020761e-03 0.00000000e+00]\n",
      " [1.50711265e-03 3.58323722e-03 3.04498270e-03 3.22952710e-03\n",
      "  3.41407151e-03 3.52172241e-03 3.52172241e-03 3.59861592e-03\n",
      "  3.82929642e-03 3.38331411e-03 2.98346790e-03 3.30642061e-03\n",
      "  3.33717801e-03 3.70626682e-03 9.99615532e-04 1.12264514e-03\n",
      "  1.63014225e-03 1.79930796e-03 2.58362168e-03 3.36793541e-03\n",
      "  3.39869281e-03 3.30642061e-03 3.33717801e-03 3.42945021e-03\n",
      "  3.42945021e-03 3.44482891e-03 3.52172241e-03 4.45982314e-04]\n",
      " [1.15340254e-03 3.13725490e-03 3.26028451e-03 3.13725490e-03\n",
      "  2.96808920e-03 3.15263360e-03 3.24490581e-03 3.46020761e-03\n",
      "  3.32179931e-03 2.84505959e-03 3.02960400e-03 3.16801230e-03\n",
      "  3.04498270e-03 3.27566321e-03 3.69088812e-03 2.99884660e-03\n",
      "  3.49096501e-03 3.76778162e-03 3.67550942e-03 3.42945021e-03\n",
      "  3.35255671e-03 3.26028451e-03 3.21414840e-03 3.41407151e-03\n",
      "  3.38331411e-03 3.39869281e-03 3.53710111e-03 1.03037293e-03]\n",
      " [7.38177624e-04 3.12187620e-03 2.81430219e-03 2.98346790e-03\n",
      "  3.27566321e-03 3.02960400e-03 2.84505959e-03 2.92195309e-03\n",
      "  2.98346790e-03 2.95271050e-03 3.10649750e-03 3.29104191e-03\n",
      "  3.36793541e-03 3.39869281e-03 3.38331411e-03 3.62937332e-03\n",
      "  3.46020761e-03 3.32179931e-03 3.06036140e-03 3.16801230e-03\n",
      "  2.86043829e-03 2.78354479e-03 2.72202999e-03 2.64513649e-03\n",
      "  2.78354479e-03 3.15263360e-03 3.16801230e-03 1.76855056e-03]\n",
      " [0.00000000e+00 1.87620146e-03 3.36793541e-03 2.96808920e-03\n",
      "  2.75278739e-03 2.62975779e-03 2.81430219e-03 3.01422530e-03\n",
      "  3.13725490e-03 3.22952710e-03 3.27566321e-03 3.18339100e-03\n",
      "  3.24490581e-03 3.22952710e-03 3.07574010e-03 3.01422530e-03\n",
      "  2.98346790e-03 2.93733180e-03 2.99884660e-03 2.93733180e-03\n",
      "  3.04498270e-03 2.95271050e-03 2.70665129e-03 2.39907728e-03\n",
      "  2.56824298e-03 2.72202999e-03 3.22952710e-03 1.41484045e-03]\n",
      " [0.00000000e+00 0.00000000e+00 1.13802384e-03 2.90657439e-03\n",
      "  3.26028451e-03 2.93733180e-03 2.69127259e-03 2.64513649e-03\n",
      "  2.69127259e-03 2.78354479e-03 2.84505959e-03 2.89119569e-03\n",
      "  2.90657439e-03 2.89119569e-03 2.96808920e-03 3.04498270e-03\n",
      "  3.13725490e-03 3.21414840e-03 3.22952710e-03 3.22952710e-03\n",
      "  3.24490581e-03 2.89119569e-03 2.89119569e-03 2.98346790e-03\n",
      "  2.95271050e-03 3.32179931e-03 2.61437908e-03 0.00000000e+00]\n",
      " [3.07574010e-05 0.00000000e+00 0.00000000e+00 0.00000000e+00\n",
      "  1.01499423e-03 3.07574010e-03 3.41407151e-03 3.64475202e-03\n",
      "  3.67550942e-03 3.72164552e-03 3.78316032e-03 3.73702422e-03\n",
      "  3.75240292e-03 3.39869281e-03 3.38331411e-03 2.96808920e-03\n",
      "  2.93733180e-03 2.75278739e-03 2.79892349e-03 2.79892349e-03\n",
      "  2.78354479e-03 2.70665129e-03 2.55286428e-03 2.58362168e-03\n",
      "  1.52249135e-03 8.91964629e-04 0.00000000e+00 0.00000000e+00]\n",
      " [0.00000000e+00 0.00000000e+00 0.00000000e+00 0.00000000e+00\n",
      "  0.00000000e+00 0.00000000e+00 0.00000000e+00 6.15148020e-04\n",
      "  9.38100730e-04 6.76662822e-04 1.10726644e-03 6.30526720e-04\n",
      "  5.38254517e-04 0.00000000e+00 0.00000000e+00 0.00000000e+00\n",
      "  0.00000000e+00 0.00000000e+00 0.00000000e+00 0.00000000e+00\n",
      "  0.00000000e+00 0.00000000e+00 0.00000000e+00 0.00000000e+00\n",
      "  0.00000000e+00 0.00000000e+00 0.00000000e+00 0.00000000e+00]\n",
      " [0.00000000e+00 0.00000000e+00 0.00000000e+00 0.00000000e+00\n",
      "  0.00000000e+00 0.00000000e+00 0.00000000e+00 0.00000000e+00\n",
      "  0.00000000e+00 0.00000000e+00 0.00000000e+00 0.00000000e+00\n",
      "  0.00000000e+00 0.00000000e+00 0.00000000e+00 0.00000000e+00\n",
      "  0.00000000e+00 0.00000000e+00 0.00000000e+00 0.00000000e+00\n",
      "  0.00000000e+00 0.00000000e+00 0.00000000e+00 0.00000000e+00\n",
      "  0.00000000e+00 0.00000000e+00 0.00000000e+00 0.00000000e+00]\n",
      " [0.00000000e+00 0.00000000e+00 0.00000000e+00 0.00000000e+00\n",
      "  0.00000000e+00 0.00000000e+00 0.00000000e+00 0.00000000e+00\n",
      "  0.00000000e+00 0.00000000e+00 0.00000000e+00 0.00000000e+00\n",
      "  0.00000000e+00 0.00000000e+00 0.00000000e+00 0.00000000e+00\n",
      "  0.00000000e+00 0.00000000e+00 0.00000000e+00 0.00000000e+00\n",
      "  0.00000000e+00 0.00000000e+00 0.00000000e+00 0.00000000e+00\n",
      "  0.00000000e+00 0.00000000e+00 0.00000000e+00 0.00000000e+00]]\n"
     ]
    }
   ],
   "source": [
    "train_X = train_X / 255.0\n",
    "test_X = test_X / 255.0\n",
    "\n",
    "print(train_X[0])"
   ]
  },
  {
   "cell_type": "code",
   "execution_count": 11,
   "id": "b32c8f91",
   "metadata": {},
   "outputs": [
    {
     "name": "stderr",
     "output_type": "stream",
     "text": [
      "2021-12-31 09:02:56.414980: I tensorflow/core/common_runtime/pluggable_device/pluggable_device_factory.cc:305] Could not identify NUMA node of platform GPU ID 0, defaulting to 0. Your kernel may not have been built with NUMA support.\n",
      "2021-12-31 09:02:56.415193: I tensorflow/core/common_runtime/pluggable_device/pluggable_device_factory.cc:271] Created TensorFlow device (/job:localhost/replica:0/task:0/device:GPU:0 with 0 MB memory) -> physical PluggableDevice (device: 0, name: METAL, pci bus id: <undefined>)\n"
     ]
    },
    {
     "name": "stdout",
     "output_type": "stream",
     "text": [
      "Metal device set to: Apple M1\n",
      "Model: \"sequential\"\n",
      "_________________________________________________________________\n",
      " Layer (type)                Output Shape              Param #   \n",
      "=================================================================\n",
      " flatten (Flatten)           (None, 784)               0         \n",
      "                                                                 \n",
      " dense (Dense)               (None, 128)               100480    \n",
      "                                                                 \n",
      " dense_1 (Dense)             (None, 10)                1290      \n",
      "                                                                 \n",
      "=================================================================\n",
      "Total params: 101,770\n",
      "Trainable params: 101,770\n",
      "Non-trainable params: 0\n",
      "_________________________________________________________________\n"
     ]
    }
   ],
   "source": [
    "model = tf.keras.Sequential([\n",
    "    tf.keras.layers.Flatten(input_shape=(28,28)),\n",
    "    tf.keras.layers.Dense(units=128, activation='relu'),\n",
    "    tf.keras.layers.Dense(units=10, activation='softmax')\n",
    "])\n",
    "\n",
    "model.compile(optimizer=tf.keras.optimizers.Adam(),\n",
    "             loss='sparse_categorical_crossentropy',\n",
    "             metrics=['accuracy'])\n",
    "\n",
    "model.summary()"
   ]
  },
  {
   "cell_type": "code",
   "execution_count": 15,
   "id": "99db9e8f",
   "metadata": {},
   "outputs": [
    {
     "name": "stdout",
     "output_type": "stream",
     "text": [
      "Epoch 1/25\n",
      "1407/1407 [==============================] - 7s 5ms/step - loss: 0.3819 - accuracy: 0.8645 - val_loss: 0.3975 - val_accuracy: 0.8595\n",
      "Epoch 2/25\n",
      "1407/1407 [==============================] - 7s 5ms/step - loss: 0.3789 - accuracy: 0.8662 - val_loss: 0.3996 - val_accuracy: 0.8591\n",
      "Epoch 3/25\n",
      "1407/1407 [==============================] - 7s 5ms/step - loss: 0.3767 - accuracy: 0.8672 - val_loss: 0.3936 - val_accuracy: 0.8587\n",
      "Epoch 4/25\n",
      "1407/1407 [==============================] - 7s 5ms/step - loss: 0.3737 - accuracy: 0.8674 - val_loss: 0.3948 - val_accuracy: 0.8587\n",
      "Epoch 5/25\n",
      "1407/1407 [==============================] - 7s 5ms/step - loss: 0.3720 - accuracy: 0.8688 - val_loss: 0.3939 - val_accuracy: 0.8589\n",
      "Epoch 6/25\n",
      "1407/1407 [==============================] - 7s 5ms/step - loss: 0.3692 - accuracy: 0.8701 - val_loss: 0.3933 - val_accuracy: 0.8605\n",
      "Epoch 7/25\n",
      "1407/1407 [==============================] - 7s 5ms/step - loss: 0.3663 - accuracy: 0.8700 - val_loss: 0.3897 - val_accuracy: 0.8617\n",
      "Epoch 8/25\n",
      "1407/1407 [==============================] - 7s 5ms/step - loss: 0.3645 - accuracy: 0.8710 - val_loss: 0.3889 - val_accuracy: 0.8619\n",
      "Epoch 9/25\n",
      "1407/1407 [==============================] - 8s 6ms/step - loss: 0.3623 - accuracy: 0.8723 - val_loss: 0.3855 - val_accuracy: 0.8627\n",
      "Epoch 10/25\n",
      "1407/1407 [==============================] - 10s 7ms/step - loss: 0.3601 - accuracy: 0.8733 - val_loss: 0.3842 - val_accuracy: 0.8612\n",
      "Epoch 11/25\n",
      "1407/1407 [==============================] - 8s 6ms/step - loss: 0.3577 - accuracy: 0.8734 - val_loss: 0.3902 - val_accuracy: 0.8629\n",
      "Epoch 12/25\n",
      "1407/1407 [==============================] - 8s 5ms/step - loss: 0.3557 - accuracy: 0.8736 - val_loss: 0.3828 - val_accuracy: 0.8647\n",
      "Epoch 13/25\n",
      "1407/1407 [==============================] - 8s 6ms/step - loss: 0.3545 - accuracy: 0.8739 - val_loss: 0.3819 - val_accuracy: 0.8621\n",
      "Epoch 14/25\n",
      "1407/1407 [==============================] - 7s 5ms/step - loss: 0.3516 - accuracy: 0.8762 - val_loss: 0.3816 - val_accuracy: 0.8654\n",
      "Epoch 15/25\n",
      "1407/1407 [==============================] - 7s 5ms/step - loss: 0.3495 - accuracy: 0.8770 - val_loss: 0.3778 - val_accuracy: 0.8649\n",
      "Epoch 16/25\n",
      "1407/1407 [==============================] - 7s 5ms/step - loss: 0.3477 - accuracy: 0.8772 - val_loss: 0.3775 - val_accuracy: 0.8655\n",
      "Epoch 17/25\n",
      "1407/1407 [==============================] - 7s 5ms/step - loss: 0.3460 - accuracy: 0.8775 - val_loss: 0.3743 - val_accuracy: 0.8653\n",
      "Epoch 18/25\n",
      "1407/1407 [==============================] - 7s 5ms/step - loss: 0.3443 - accuracy: 0.8776 - val_loss: 0.3734 - val_accuracy: 0.8654\n",
      "Epoch 19/25\n",
      "1407/1407 [==============================] - 7s 5ms/step - loss: 0.3421 - accuracy: 0.8786 - val_loss: 0.3733 - val_accuracy: 0.8668\n",
      "Epoch 20/25\n",
      "1407/1407 [==============================] - 7s 5ms/step - loss: 0.3403 - accuracy: 0.8793 - val_loss: 0.3732 - val_accuracy: 0.8656\n",
      "Epoch 21/25\n",
      "1407/1407 [==============================] - 7s 5ms/step - loss: 0.3391 - accuracy: 0.8804 - val_loss: 0.3735 - val_accuracy: 0.8656\n",
      "Epoch 22/25\n",
      "1407/1407 [==============================] - 7s 5ms/step - loss: 0.3366 - accuracy: 0.8807 - val_loss: 0.3712 - val_accuracy: 0.8663\n",
      "Epoch 23/25\n",
      "1407/1407 [==============================] - 7s 5ms/step - loss: 0.3347 - accuracy: 0.8822 - val_loss: 0.3701 - val_accuracy: 0.8677\n",
      "Epoch 24/25\n",
      "1407/1407 [==============================] - 7s 5ms/step - loss: 0.3333 - accuracy: 0.8823 - val_loss: 0.3676 - val_accuracy: 0.8695\n",
      "Epoch 25/25\n",
      "1407/1407 [==============================] - 7s 5ms/step - loss: 0.3308 - accuracy: 0.8826 - val_loss: 0.3681 - val_accuracy: 0.8672\n"
     ]
    }
   ],
   "source": [
    "history = model.fit(train_X, train_Y, epochs=25, validation_split=0.25)"
   ]
  },
  {
   "cell_type": "code",
   "execution_count": 16,
   "id": "72a2977a",
   "metadata": {},
   "outputs": [
    {
     "data": {
      "image/png": "[encoded data removed]",
      "text/plain": [
       "<Figure size 864x288 with 2 Axes>"
      ]
     },
     "metadata": {
      "needs_background": "light"
     },
     "output_type": "display_data"
    }
   ],
   "source": [
    "import matplotlib.pyplot as plt\n",
    "plt.figure(figsize=(12,4))\n",
    "\n",
    "plt.subplot(1, 2, 1)\n",
    "plt.plot(history.history['loss'], 'b-', label='loss')\n",
    "plt.plot(history.history['val_loss'], 'r--', label='val_loss')\n",
    "plt.xlabel('Epoch')\n",
    "plt.legend()\n",
    "\n",
    "plt.subplot(1, 2, 2)\n",
    "plt.plot(history.history['accuracy'], 'b-', label='accuracy')\n",
    "plt.plot(history.history['val_accuracy'], 'r--', label='val_accuracy')\n",
    "plt.xlabel('Epoch')\n",
    "plt.ylim(0.7, 1)\n",
    "plt.legend()\n",
    "\n",
    "plt.show()"
   ]
  },
  {
   "cell_type": "code",
   "execution_count": 17,
   "id": "e3f62418",
   "metadata": {},
   "outputs": [
    {
     "name": "stdout",
     "output_type": "stream",
     "text": [
      "313/313 [==============================] - 1s 4ms/step - loss: 0.3936 - accuracy: 0.8610\n"
     ]
    },
    {
     "data": {
      "text/plain": [
       "[0.3936309814453125, 0.8610000610351562]"
      ]
     },
     "execution_count": 17,
     "metadata": {},
     "output_type": "execute_result"
    }
   ],
   "source": [
    "model.evaluate(test_X, test_Y)"
   ]
  },
  {
   "cell_type": "code",
   "execution_count": null,
   "id": "4e2e9221",
   "metadata": {},
   "outputs": [],
   "source": []
  }
 ],
 "metadata": {
  "kernelspec": {
   "display_name": "Python 3 (ipykernel)",
   "language": "python",
   "name": "python3"
  },
  "language_info": {
   "codemirror_mode": {
    "name": "ipython",
    "version": 3
   },
   "file_extension": ".py",
   "mimetype": "text/x-python",
   "name": "python",
   "nbconvert_exporter": "python",
   "pygments_lexer": "ipython3",
   "version": "3.9.7"
  }
 },
 "nbformat": 4,
 "nbformat_minor": 5
}
