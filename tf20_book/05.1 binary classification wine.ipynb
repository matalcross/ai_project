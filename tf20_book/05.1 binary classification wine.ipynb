{
 "cells": [
  {
   "cell_type": "markdown",
   "id": "26bc13f7",
   "metadata": {},
   "source": [
    "# 와인데이터 불러오기"
   ]
  },
  {
   "cell_type": "code",
   "execution_count": 1,
   "id": "53fa8e60",
   "metadata": {},
   "outputs": [],
   "source": [
    "import pandas as pd"
   ]
  },
  {
   "cell_type": "code",
   "execution_count": 2,
   "id": "b2e027ba",
   "metadata": {},
   "outputs": [],
   "source": [
    "red = pd.read_csv('http://archive.ics.uci.edu/ml/machine-learning-databases/wine-quality/winequality-red.csv', sep=';')"
   ]
  },
  {
   "cell_type": "code",
   "execution_count": 3,
   "id": "93cb7701",
   "metadata": {},
   "outputs": [],
   "source": [
    "white = pd.read_csv('http://archive.ics.uci.edu/ml/machine-learning-databases/wine-quality/winequality-white.csv', sep=';')"
   ]
  },
  {
   "cell_type": "code",
   "execution_count": 4,
   "id": "04fbba10",
   "metadata": {},
   "outputs": [
    {
     "name": "stdout",
     "output_type": "stream",
     "text": [
      "   fixed acidity  volatile acidity  citric acid  residual sugar  chlorides  \\\n",
      "0            7.4              0.70         0.00             1.9      0.076   \n",
      "1            7.8              0.88         0.00             2.6      0.098   \n",
      "2            7.8              0.76         0.04             2.3      0.092   \n",
      "3           11.2              0.28         0.56             1.9      0.075   \n",
      "4            7.4              0.70         0.00             1.9      0.076   \n",
      "\n",
      "   free sulfur dioxide  total sulfur dioxide  density    pH  sulphates  \\\n",
      "0                 11.0                  34.0   0.9978  3.51       0.56   \n",
      "1                 25.0                  67.0   0.9968  3.20       0.68   \n",
      "2                 15.0                  54.0   0.9970  3.26       0.65   \n",
      "3                 17.0                  60.0   0.9980  3.16       0.58   \n",
      "4                 11.0                  34.0   0.9978  3.51       0.56   \n",
      "\n",
      "   alcohol  quality  \n",
      "0      9.4        5  \n",
      "1      9.8        5  \n",
      "2      9.8        5  \n",
      "3      9.8        6  \n",
      "4      9.4        5  \n"
     ]
    }
   ],
   "source": [
    "print(red.head())"
   ]
  },
  {
   "cell_type": "code",
   "execution_count": 5,
   "id": "2ac28a28",
   "metadata": {},
   "outputs": [
    {
     "name": "stdout",
     "output_type": "stream",
     "text": [
      "   fixed acidity  volatile acidity  citric acid  residual sugar  chlorides  \\\n",
      "0            7.0              0.27         0.36            20.7      0.045   \n",
      "1            6.3              0.30         0.34             1.6      0.049   \n",
      "2            8.1              0.28         0.40             6.9      0.050   \n",
      "3            7.2              0.23         0.32             8.5      0.058   \n",
      "4            7.2              0.23         0.32             8.5      0.058   \n",
      "\n",
      "   free sulfur dioxide  total sulfur dioxide  density    pH  sulphates  \\\n",
      "0                 45.0                 170.0   1.0010  3.00       0.45   \n",
      "1                 14.0                 132.0   0.9940  3.30       0.49   \n",
      "2                 30.0                  97.0   0.9951  3.26       0.44   \n",
      "3                 47.0                 186.0   0.9956  3.19       0.40   \n",
      "4                 47.0                 186.0   0.9956  3.19       0.40   \n",
      "\n",
      "   alcohol  quality  \n",
      "0      8.8        6  \n",
      "1      9.5        6  \n",
      "2     10.1        6  \n",
      "3      9.9        6  \n",
      "4      9.9        6  \n"
     ]
    }
   ],
   "source": [
    "print(white.head())"
   ]
  },
  {
   "cell_type": "markdown",
   "id": "3a7e6b6a",
   "metadata": {},
   "source": [
    "# 데이터 하나로 합치기"
   ]
  },
  {
   "cell_type": "code",
   "execution_count": 6,
   "id": "64ad735e",
   "metadata": {},
   "outputs": [
    {
     "name": "stdout",
     "output_type": "stream",
     "text": [
      "   fixed acidity  volatile acidity  citric acid  residual sugar  chlorides  \\\n",
      "0            7.4              0.70          0.0             1.9      0.076   \n",
      "1            7.8              0.88          0.0             2.6      0.098   \n",
      "\n",
      "   free sulfur dioxide  total sulfur dioxide  density    pH  sulphates  \\\n",
      "0                 11.0                  34.0   0.9978  3.51       0.56   \n",
      "1                 25.0                  67.0   0.9968  3.20       0.68   \n",
      "\n",
      "   alcohol  quality  type  \n",
      "0      9.4        5     0  \n",
      "1      9.8        5     0  \n",
      "   fixed acidity  volatile acidity  citric acid  residual sugar  chlorides  \\\n",
      "0            7.0              0.27         0.36            20.7      0.045   \n",
      "1            6.3              0.30         0.34             1.6      0.049   \n",
      "\n",
      "   free sulfur dioxide  total sulfur dioxide  density   pH  sulphates  \\\n",
      "0                 45.0                 170.0    1.001  3.0       0.45   \n",
      "1                 14.0                 132.0    0.994  3.3       0.49   \n",
      "\n",
      "   alcohol  quality  type  \n",
      "0      8.8        6     1  \n",
      "1      9.5        6     1  \n",
      "       fixed acidity  volatile acidity  citric acid  residual sugar  \\\n",
      "count    6497.000000       6497.000000  6497.000000     6497.000000   \n",
      "mean        7.215307          0.339666     0.318633        5.443235   \n",
      "std         1.296434          0.164636     0.145318        4.757804   \n",
      "min         3.800000          0.080000     0.000000        0.600000   \n",
      "25%         6.400000          0.230000     0.250000        1.800000   \n",
      "50%         7.000000          0.290000     0.310000        3.000000   \n",
      "75%         7.700000          0.400000     0.390000        8.100000   \n",
      "max        15.900000          1.580000     1.660000       65.800000   \n",
      "\n",
      "         chlorides  free sulfur dioxide  total sulfur dioxide      density  \\\n",
      "count  6497.000000          6497.000000           6497.000000  6497.000000   \n",
      "mean      0.056034            30.525319            115.744574     0.994697   \n",
      "std       0.035034            17.749400             56.521855     0.002999   \n",
      "min       0.009000             1.000000              6.000000     0.987110   \n",
      "25%       0.038000            17.000000             77.000000     0.992340   \n",
      "50%       0.047000            29.000000            118.000000     0.994890   \n",
      "75%       0.065000            41.000000            156.000000     0.996990   \n",
      "max       0.611000           289.000000            440.000000     1.038980   \n",
      "\n",
      "                pH    sulphates      alcohol      quality         type  \n",
      "count  6497.000000  6497.000000  6497.000000  6497.000000  6497.000000  \n",
      "mean      3.218501     0.531268    10.491801     5.818378     0.753886  \n",
      "std       0.160787     0.148806     1.192712     0.873255     0.430779  \n",
      "min       2.720000     0.220000     8.000000     3.000000     0.000000  \n",
      "25%       3.110000     0.430000     9.500000     5.000000     1.000000  \n",
      "50%       3.210000     0.510000    10.300000     6.000000     1.000000  \n",
      "75%       3.320000     0.600000    11.300000     6.000000     1.000000  \n",
      "max       4.010000     2.000000    14.900000     9.000000     1.000000  \n"
     ]
    }
   ],
   "source": [
    "red['type'] = 0\n",
    "white['type'] = 1\n",
    "print(red.head(2))\n",
    "print(white.head(2))\n",
    "\n",
    "wine = pd.concat([red, white])\n",
    "print(wine.describe())"
   ]
  },
  {
   "cell_type": "markdown",
   "id": "b1a96250",
   "metadata": {},
   "source": [
    "# 입력된 데이터 수치 알아보기"
   ]
  },
  {
   "cell_type": "code",
   "execution_count": 7,
   "id": "7a00b3bf",
   "metadata": {},
   "outputs": [
    {
     "data": {
      "image/png": "[encoded data removed]",
      "text/plain": [
       "<Figure size 432x288 with 1 Axes>"
      ]
     },
     "metadata": {
      "needs_background": "light"
     },
     "output_type": "display_data"
    },
    {
     "name": "stdout",
     "output_type": "stream",
     "text": [
      "1    4898\n",
      "0    1599\n",
      "Name: type, dtype: int64\n"
     ]
    }
   ],
   "source": [
    "import matplotlib.pyplot as plt\n",
    "plt.hist(wine['type'])\n",
    "plt.xticks([0,1])\n",
    "plt.show()\n",
    "\n",
    "print(wine['type'].value_counts())"
   ]
  },
  {
   "cell_type": "code",
   "execution_count": 8,
   "id": "654ab09b",
   "metadata": {},
   "outputs": [
    {
     "name": "stdout",
     "output_type": "stream",
     "text": [
      "<class 'pandas.core.frame.DataFrame'>\n",
      "Int64Index: 6497 entries, 0 to 4897\n",
      "Data columns (total 13 columns):\n",
      " #   Column                Non-Null Count  Dtype  \n",
      "---  ------                --------------  -----  \n",
      " 0   fixed acidity         6497 non-null   float64\n",
      " 1   volatile acidity      6497 non-null   float64\n",
      " 2   citric acid           6497 non-null   float64\n",
      " 3   residual sugar        6497 non-null   float64\n",
      " 4   chlorides             6497 non-null   float64\n",
      " 5   free sulfur dioxide   6497 non-null   float64\n",
      " 6   total sulfur dioxide  6497 non-null   float64\n",
      " 7   density               6497 non-null   float64\n",
      " 8   pH                    6497 non-null   float64\n",
      " 9   sulphates             6497 non-null   float64\n",
      " 10  alcohol               6497 non-null   float64\n",
      " 11  quality               6497 non-null   int64  \n",
      " 12  type                  6497 non-null   int64  \n",
      "dtypes: float64(11), int64(2)\n",
      "memory usage: 710.6 KB\n",
      "None\n"
     ]
    }
   ],
   "source": [
    "print(wine.info())"
   ]
  },
  {
   "cell_type": "markdown",
   "id": "12835ed4",
   "metadata": {},
   "source": [
    "# 전처리하기"
   ]
  },
  {
   "cell_type": "code",
   "execution_count": 9,
   "id": "71d1c6d3",
   "metadata": {},
   "outputs": [
    {
     "name": "stdout",
     "output_type": "stream",
     "text": [
      "   fixed acidity  volatile acidity  citric acid  residual sugar  chlorides  \\\n",
      "0       0.297521          0.413333     0.000000        0.019939   0.111296   \n",
      "1       0.330579          0.533333     0.000000        0.030675   0.147841   \n",
      "2       0.330579          0.453333     0.024096        0.026074   0.137874   \n",
      "3       0.611570          0.133333     0.337349        0.019939   0.109635   \n",
      "4       0.297521          0.413333     0.000000        0.019939   0.111296   \n",
      "\n",
      "   free sulfur dioxide  total sulfur dioxide   density        pH  sulphates  \\\n",
      "0             0.034722              0.064516  0.206092  0.612403   0.191011   \n",
      "1             0.083333              0.140553  0.186813  0.372093   0.258427   \n",
      "2             0.048611              0.110599  0.190669  0.418605   0.241573   \n",
      "3             0.055556              0.124424  0.209948  0.341085   0.202247   \n",
      "4             0.034722              0.064516  0.206092  0.612403   0.191011   \n",
      "\n",
      "    alcohol   quality  type  \n",
      "0  0.202899  0.333333   0.0  \n",
      "1  0.260870  0.333333   0.0  \n",
      "2  0.260870  0.333333   0.0  \n",
      "3  0.260870  0.500000   0.0  \n",
      "4  0.202899  0.333333   0.0  \n",
      "       fixed acidity  volatile acidity  citric acid  residual sugar  \\\n",
      "count    6497.000000       6497.000000  6497.000000     6497.000000   \n",
      "mean        0.282257          0.173111     0.191948        0.074283   \n",
      "std         0.107143          0.109758     0.087541        0.072972   \n",
      "min         0.000000          0.000000     0.000000        0.000000   \n",
      "25%         0.214876          0.100000     0.150602        0.018405   \n",
      "50%         0.264463          0.140000     0.186747        0.036810   \n",
      "75%         0.322314          0.213333     0.234940        0.115031   \n",
      "max         1.000000          1.000000     1.000000        1.000000   \n",
      "\n",
      "         chlorides  free sulfur dioxide  total sulfur dioxide      density  \\\n",
      "count  6497.000000          6497.000000           6497.000000  6497.000000   \n",
      "mean      0.078129             0.102518              0.252868     0.146262   \n",
      "std       0.058195             0.061630              0.130235     0.057811   \n",
      "min       0.000000             0.000000              0.000000     0.000000   \n",
      "25%       0.048173             0.055556              0.163594     0.100829   \n",
      "50%       0.063123             0.097222              0.258065     0.149990   \n",
      "75%       0.093023             0.138889              0.345622     0.190476   \n",
      "max       1.000000             1.000000              1.000000     1.000000   \n",
      "\n",
      "                pH    sulphates      alcohol      quality         type  \n",
      "count  6497.000000  6497.000000  6497.000000  6497.000000  6497.000000  \n",
      "mean      0.386435     0.174870     0.361131     0.469730     0.753886  \n",
      "std       0.124641     0.083599     0.172857     0.145543     0.430779  \n",
      "min       0.000000     0.000000     0.000000     0.000000     0.000000  \n",
      "25%       0.302326     0.117978     0.217391     0.333333     1.000000  \n",
      "50%       0.379845     0.162921     0.333333     0.500000     1.000000  \n",
      "75%       0.465116     0.213483     0.478261     0.500000     1.000000  \n",
      "max       1.000000     1.000000     1.000000     1.000000     1.000000  \n"
     ]
    }
   ],
   "source": [
    "wine_norm = (wine - wine.min()) / (wine.max() - wine.min())\n",
    "print(wine_norm.head())\n",
    "print(wine_norm.describe())"
   ]
  },
  {
   "cell_type": "markdown",
   "id": "b2f4eede",
   "metadata": {},
   "source": [
    "# 데이터를 섞어서 랜덤으로 만든다."
   ]
  },
  {
   "cell_type": "code",
   "execution_count": 10,
   "id": "0ea14179",
   "metadata": {},
   "outputs": [
    {
     "name": "stdout",
     "output_type": "stream",
     "text": [
      "      fixed acidity  volatile acidity  citric acid  residual sugar  chlorides  \\\n",
      "459        0.644628          0.333333     0.397590        0.024540   0.107973   \n",
      "1581       0.429752          0.146667     0.295181        0.101227   0.049834   \n",
      "3879       0.247934          0.433333     0.120482        0.092025   0.074751   \n",
      "466        0.264463          0.040000     0.192771        0.128834   0.049834   \n",
      "3527       0.314050          0.100000     0.174699        0.122699   0.073090   \n",
      "\n",
      "      free sulfur dioxide  total sulfur dioxide   density        pH  \\\n",
      "459              0.031250              0.094470  0.263929  0.410853   \n",
      "1581             0.107639              0.179724  0.128976  0.170543   \n",
      "3879             0.083333              0.135945  0.118180  0.310078   \n",
      "466              0.184028              0.311060  0.163678  0.387597   \n",
      "3527             0.222222              0.322581  0.177174  0.302326   \n",
      "\n",
      "      sulphates   alcohol   quality  type  \n",
      "459    0.196629  0.144928  0.000000   0.0  \n",
      "1581   0.056180  0.507246  0.500000   1.0  \n",
      "3879   0.033708  0.449275  0.166667   1.0  \n",
      "466    0.117978  0.202899  0.500000   1.0  \n",
      "3527   0.056180  0.260870  0.500000   1.0  \n",
      "[[0.6446281  0.33333333 0.39759036 0.02453988 0.10797342 0.03125\n",
      "  0.09447005 0.26392905 0.41085271 0.19662921 0.14492754 0.\n",
      "  0.        ]\n",
      " [0.42975207 0.14666667 0.29518072 0.10122699 0.04983389 0.10763889\n",
      "  0.1797235  0.12897629 0.17054264 0.05617978 0.50724638 0.5\n",
      "  1.        ]\n",
      " [0.24793388 0.43333333 0.12048193 0.09202454 0.07475083 0.08333333\n",
      "  0.1359447  0.11818007 0.31007752 0.03370787 0.44927536 0.16666667\n",
      "  1.        ]\n",
      " [0.26446281 0.04       0.19277108 0.12883436 0.04983389 0.18402778\n",
      "  0.31105991 0.16367843 0.3875969  0.11797753 0.20289855 0.5\n",
      "  1.        ]\n",
      " [0.31404959 0.1        0.1746988  0.12269939 0.0730897  0.22222222\n",
      "  0.32258065 0.1771737  0.30232558 0.05617978 0.26086957 0.5\n",
      "  1.        ]]\n"
     ]
    }
   ],
   "source": [
    "import numpy as np\n",
    "wine_shuffle = wine_norm.sample(frac=1)\n",
    "print(wine_shuffle.head())\n",
    "\n",
    "wine_np = wine_shuffle.to_numpy()\n",
    "print(wine_np[:5])"
   ]
  },
  {
   "cell_type": "code",
   "execution_count": 11,
   "id": "70be6b41",
   "metadata": {},
   "outputs": [],
   "source": [
    "import tensorflow as tf\n",
    "train_idx = int(len(wine_np) * 0.8)\n",
    "train_X, train_Y = wine_np[:train_idx, :-1], wine_np[:train_idx, -1]\n",
    "test_X, test_Y = wine_np[train_idx:, :-1], wine_np[train_idx:, -1]"
   ]
  },
  {
   "cell_type": "code",
   "execution_count": 12,
   "id": "8be16f23",
   "metadata": {},
   "outputs": [
    {
     "name": "stdout",
     "output_type": "stream",
     "text": [
      "[0.6446281  0.33333333 0.39759036 0.02453988 0.10797342 0.03125\n",
      " 0.09447005 0.26392905 0.41085271 0.19662921 0.14492754 0.        ]\n",
      "0.0\n",
      "[0.28099174 0.10666667 0.21686747 0.02147239 0.03322259 0.06944444\n",
      " 0.13133641 0.07036823 0.31782946 0.23033708 0.65217391 0.5       ]\n",
      "1.0\n"
     ]
    }
   ],
   "source": [
    "print(train_X[0])\n",
    "print(train_Y[0])\n",
    "print(test_X[0])\n",
    "print(test_Y[0])"
   ]
  },
  {
   "cell_type": "code",
   "execution_count": 13,
   "id": "d2fa8ef8",
   "metadata": {},
   "outputs": [
    {
     "name": "stdout",
     "output_type": "stream",
     "text": [
      "[1. 0.]\n",
      "[0. 1.]\n"
     ]
    }
   ],
   "source": [
    "train_Y = tf.keras.utils.to_categorical(train_Y, num_classes=2)\n",
    "test_Y = tf.keras.utils.to_categorical(test_Y, num_classes=2)\n",
    "print(train_Y[0])\n",
    "print(test_Y[0])"
   ]
  },
  {
   "cell_type": "code",
   "execution_count": 14,
   "id": "37fb77e2",
   "metadata": {},
   "outputs": [
    {
     "name": "stdout",
     "output_type": "stream",
     "text": [
      "Metal device set to: Apple M1\n"
     ]
    },
    {
     "name": "stderr",
     "output_type": "stream",
     "text": [
      "2021-12-31 06:34:58.603053: I tensorflow/core/common_runtime/pluggable_device/pluggable_device_factory.cc:305] Could not identify NUMA node of platform GPU ID 0, defaulting to 0. Your kernel may not have been built with NUMA support.\n",
      "2021-12-31 06:34:58.603533: I tensorflow/core/common_runtime/pluggable_device/pluggable_device_factory.cc:271] Created TensorFlow device (/job:localhost/replica:0/task:0/device:GPU:0 with 0 MB memory) -> physical PluggableDevice (device: 0, name: METAL, pci bus id: <undefined>)\n"
     ]
    }
   ],
   "source": [
    "model = tf.keras.Sequential([\n",
    "    tf.keras.layers.Dense(units=48, activation='relu', input_shape=(12,)),\n",
    "    tf.keras.layers.Dense(units=24, activation='relu'),\n",
    "    tf.keras.layers.Dense(units=12, activation='relu'),\n",
    "    tf.keras.layers.Dense(units=2, activation='softmax')\n",
    "])"
   ]
  },
  {
   "cell_type": "code",
   "execution_count": 15,
   "id": "8050b032",
   "metadata": {},
   "outputs": [
    {
     "name": "stdout",
     "output_type": "stream",
     "text": [
      "Model: \"sequential\"\n",
      "_________________________________________________________________\n",
      " Layer (type)                Output Shape              Param #   \n",
      "=================================================================\n",
      " dense (Dense)               (None, 48)                624       \n",
      "                                                                 \n",
      " dense_1 (Dense)             (None, 24)                1176      \n",
      "                                                                 \n",
      " dense_2 (Dense)             (None, 12)                300       \n",
      "                                                                 \n",
      " dense_3 (Dense)             (None, 2)                 26        \n",
      "                                                                 \n",
      "=================================================================\n",
      "Total params: 2,126\n",
      "Trainable params: 2,126\n",
      "Non-trainable params: 0\n",
      "_________________________________________________________________\n"
     ]
    },
    {
     "name": "stderr",
     "output_type": "stream",
     "text": [
      "/opt/homebrew/Caskroom/miniforge/base/envs/p39t27/lib/python3.9/site-packages/keras/optimizer_v2/adam.py:105: UserWarning: The `lr` argument is deprecated, use `learning_rate` instead.\n",
      "  super(Adam, self).__init__(name, **kwargs)\n"
     ]
    }
   ],
   "source": [
    "model.compile(optimizer=tf.keras.optimizers.Adam(lr=0.07), loss='categorical_crossentropy', metrics=['accuracy'])\n",
    "\n",
    "model.summary()"
   ]
  },
  {
   "cell_type": "code",
   "execution_count": 16,
   "id": "fb7070ed",
   "metadata": {},
   "outputs": [
    {
     "name": "stderr",
     "output_type": "stream",
     "text": [
      "2021-12-31 06:35:01.113460: W tensorflow/core/platform/profile_utils/cpu_utils.cc:128] Failed to get CPU frequency: 0 Hz\n",
      "2021-12-31 06:35:01.246459: I tensorflow/core/grappler/optimizers/custom_graph_optimizer_registry.cc:112] Plugin optimizer for device_type GPU is enabled.\n"
     ]
    },
    {
     "name": "stdout",
     "output_type": "stream",
     "text": [
      "Epoch 1/25\n",
      "122/122 [==============================] - ETA: 0s - loss: 0.1575 - accuracy: 0.9425"
     ]
    },
    {
     "name": "stderr",
     "output_type": "stream",
     "text": [
      "2021-12-31 06:35:02.193048: I tensorflow/core/grappler/optimizers/custom_graph_optimizer_registry.cc:112] Plugin optimizer for device_type GPU is enabled.\n"
     ]
    },
    {
     "name": "stdout",
     "output_type": "stream",
     "text": [
      "122/122 [==============================] - 1s 9ms/step - loss: 0.1575 - accuracy: 0.9425 - val_loss: 0.0930 - val_accuracy: 0.9708\n",
      "Epoch 2/25\n",
      "122/122 [==============================] - 1s 8ms/step - loss: 0.0539 - accuracy: 0.9849 - val_loss: 0.0510 - val_accuracy: 0.9869\n",
      "Epoch 3/25\n",
      "122/122 [==============================] - 1s 8ms/step - loss: 0.0387 - accuracy: 0.9908 - val_loss: 0.0538 - val_accuracy: 0.9869\n",
      "Epoch 4/25\n",
      "122/122 [==============================] - 1s 8ms/step - loss: 0.0459 - accuracy: 0.9887 - val_loss: 0.0775 - val_accuracy: 0.9731\n",
      "Epoch 5/25\n",
      "122/122 [==============================] - 1s 8ms/step - loss: 0.0449 - accuracy: 0.9872 - val_loss: 0.0691 - val_accuracy: 0.9777\n",
      "Epoch 6/25\n",
      "122/122 [==============================] - 1s 8ms/step - loss: 0.0381 - accuracy: 0.9897 - val_loss: 0.0847 - val_accuracy: 0.9746\n",
      "Epoch 7/25\n",
      "122/122 [==============================] - 1s 9ms/step - loss: 0.0401 - accuracy: 0.9895 - val_loss: 0.0450 - val_accuracy: 0.9908\n",
      "Epoch 8/25\n",
      "122/122 [==============================] - 1s 9ms/step - loss: 0.0460 - accuracy: 0.9867 - val_loss: 0.0626 - val_accuracy: 0.9838\n",
      "Epoch 9/25\n",
      "122/122 [==============================] - 1s 8ms/step - loss: 0.0332 - accuracy: 0.9910 - val_loss: 0.0494 - val_accuracy: 0.9869\n",
      "Epoch 10/25\n",
      "122/122 [==============================] - 1s 8ms/step - loss: 0.0451 - accuracy: 0.9861 - val_loss: 0.0476 - val_accuracy: 0.9885\n",
      "Epoch 11/25\n",
      "122/122 [==============================] - 1s 8ms/step - loss: 0.0322 - accuracy: 0.9913 - val_loss: 0.0661 - val_accuracy: 0.9769\n",
      "Epoch 12/25\n",
      "122/122 [==============================] - 1s 8ms/step - loss: 0.0332 - accuracy: 0.9905 - val_loss: 0.0441 - val_accuracy: 0.9892\n",
      "Epoch 13/25\n",
      "122/122 [==============================] - 1s 9ms/step - loss: 0.0399 - accuracy: 0.9877 - val_loss: 0.0437 - val_accuracy: 0.9900\n",
      "Epoch 14/25\n",
      "122/122 [==============================] - 1s 8ms/step - loss: 0.0331 - accuracy: 0.9908 - val_loss: 0.0443 - val_accuracy: 0.9900\n",
      "Epoch 15/25\n",
      "122/122 [==============================] - 1s 8ms/step - loss: 0.0486 - accuracy: 0.9879 - val_loss: 0.0428 - val_accuracy: 0.9892\n",
      "Epoch 16/25\n",
      "122/122 [==============================] - 1s 8ms/step - loss: 0.0340 - accuracy: 0.9915 - val_loss: 0.0543 - val_accuracy: 0.9823\n",
      "Epoch 17/25\n",
      "122/122 [==============================] - 1s 8ms/step - loss: 0.0319 - accuracy: 0.9920 - val_loss: 0.0435 - val_accuracy: 0.9923\n",
      "Epoch 18/25\n",
      "122/122 [==============================] - 1s 8ms/step - loss: 0.0379 - accuracy: 0.9895 - val_loss: 0.0410 - val_accuracy: 0.9869\n",
      "Epoch 19/25\n",
      "122/122 [==============================] - 1s 9ms/step - loss: 0.0272 - accuracy: 0.9923 - val_loss: 0.0456 - val_accuracy: 0.9915\n",
      "Epoch 20/25\n",
      "122/122 [==============================] - 1s 8ms/step - loss: 0.0380 - accuracy: 0.9892 - val_loss: 0.0422 - val_accuracy: 0.9869\n",
      "Epoch 21/25\n",
      "122/122 [==============================] - 1s 8ms/step - loss: 0.0289 - accuracy: 0.9923 - val_loss: 0.0435 - val_accuracy: 0.9877\n",
      "Epoch 22/25\n",
      "122/122 [==============================] - 1s 8ms/step - loss: 0.0295 - accuracy: 0.9933 - val_loss: 0.0396 - val_accuracy: 0.9877\n",
      "Epoch 23/25\n",
      "122/122 [==============================] - 1s 8ms/step - loss: 0.0306 - accuracy: 0.9920 - val_loss: 0.0383 - val_accuracy: 0.9923\n",
      "Epoch 24/25\n",
      "122/122 [==============================] - 1s 8ms/step - loss: 0.0278 - accuracy: 0.9915 - val_loss: 0.0377 - val_accuracy: 0.9923\n",
      "Epoch 25/25\n",
      "122/122 [==============================] - 1s 8ms/step - loss: 0.0286 - accuracy: 0.9920 - val_loss: 0.0440 - val_accuracy: 0.9877\n"
     ]
    }
   ],
   "source": [
    "history = model.fit(train_X, train_Y, epochs=25, batch_size=32, validation_split=0.25)"
   ]
  },
  {
   "cell_type": "code",
   "execution_count": 17,
   "id": "aa1198d3",
   "metadata": {},
   "outputs": [
    {
     "data": {
      "image/png": "[encoded data removed]",
      "text/plain": [
       "<Figure size 864x288 with 2 Axes>"
      ]
     },
     "metadata": {
      "needs_background": "light"
     },
     "output_type": "display_data"
    }
   ],
   "source": [
    "import matplotlib.pyplot as plt\n",
    "plt.figure(figsize=(12,4))\n",
    "\n",
    "plt.subplot(1,2,1)\n",
    "plt.plot(history.history['loss'], 'b-', label='loss')\n",
    "plt.plot(history.history['val_loss'], 'r--', label='val_loss')\n",
    "plt.xlabel('Epoch')\n",
    "plt.legend()\n",
    "\n",
    "plt.subplot(1, 2, 2)\n",
    "plt.plot(history.history['accuracy'], 'g-', label='accuracy')\n",
    "plt.plot(history.history['val_accuracy'], 'k--', label='val_accuracy')\n",
    "plt.xlabel('Epoch')\n",
    "plt.ylim(0.7, 1)\n",
    "plt.legend()\n",
    "\n",
    "plt.show()"
   ]
  },
  {
   "cell_type": "code",
   "execution_count": 18,
   "id": "5bc8d065",
   "metadata": {},
   "outputs": [
    {
     "name": "stdout",
     "output_type": "stream",
     "text": [
      "41/41 [==============================] - 0s 6ms/step - loss: 0.0422 - accuracy: 0.9908\n"
     ]
    },
    {
     "data": {
      "text/plain": [
       "[0.04224217310547829, 0.9907692074775696]"
      ]
     },
     "execution_count": 18,
     "metadata": {},
     "output_type": "execute_result"
    }
   ],
   "source": [
    "model.evaluate(test_X, test_Y)"
   ]
  },
  {
   "cell_type": "code",
   "execution_count": 19,
   "id": "7b95ef2f",
   "metadata": {},
   "outputs": [
    {
     "name": "stdout",
     "output_type": "stream",
     "text": [
      "count    6497.000000\n",
      "mean        5.818378\n",
      "std         0.873255\n",
      "min         3.000000\n",
      "25%         5.000000\n",
      "50%         6.000000\n",
      "75%         6.000000\n",
      "max         9.000000\n",
      "Name: quality, dtype: float64\n",
      "6    2836\n",
      "5    2138\n",
      "7    1079\n",
      "4     216\n",
      "8     193\n",
      "3      30\n",
      "9       5\n",
      "Name: quality, dtype: int64\n"
     ]
    }
   ],
   "source": [
    "# 다향분석\n",
    "print(wine['quality'].describe())\n",
    "print(wine['quality'].value_counts())"
   ]
  },
  {
   "cell_type": "code",
   "execution_count": 20,
   "id": "fc6cf159",
   "metadata": {},
   "outputs": [
    {
     "data": {
      "image/png": "[encoded data removed]",
      "text/plain": [
       "<Figure size 432x288 with 1 Axes>"
      ]
     },
     "metadata": {
      "needs_background": "light"
     },
     "output_type": "display_data"
    }
   ],
   "source": [
    "import matplotlib.pyplot as plt\n",
    "plt.hist(wine['quality'], bins=7, rwidth=0.8)\n",
    "plt.show()"
   ]
  },
  {
   "cell_type": "code",
   "execution_count": 21,
   "id": "4c95ac72",
   "metadata": {},
   "outputs": [],
   "source": [
    "wine.loc[wine['quality'] <= 5, 'new_quality'] = 0\n",
    "wine.loc[wine['quality'] == 6, 'new_quality'] = 1\n",
    "wine.loc[wine['quality'] >= 7, 'new_quality'] = 2"
   ]
  },
  {
   "cell_type": "code",
   "execution_count": 22,
   "id": "c0ab5fd0",
   "metadata": {},
   "outputs": [
    {
     "name": "stdout",
     "output_type": "stream",
     "text": [
      "count    6497.000000\n",
      "mean        0.829614\n",
      "std         0.731124\n",
      "min         0.000000\n",
      "25%         0.000000\n",
      "50%         1.000000\n",
      "75%         1.000000\n",
      "max         2.000000\n",
      "Name: new_quality, dtype: float64\n",
      "1.0    2836\n",
      "0.0    2384\n",
      "2.0    1277\n",
      "Name: new_quality, dtype: int64\n"
     ]
    }
   ],
   "source": [
    "print(wine['new_quality'].describe())\n",
    "print(wine['new_quality'].value_counts())"
   ]
  },
  {
   "cell_type": "code",
   "execution_count": 23,
   "id": "5730c067",
   "metadata": {},
   "outputs": [
    {
     "name": "stdout",
     "output_type": "stream",
     "text": [
      "     Fruit  Count\n",
      "0    Apple     11\n",
      "1   Banana     23\n",
      "2  Coconut     35\n",
      "\n",
      "Fruit    Apple\n",
      "Count       11\n",
      "Name: 0, dtype: object\n",
      "\n",
      "Apple\n"
     ]
    }
   ],
   "source": [
    "data = [['Apple', 11], ['Banana', 23], ['Coconut', 35]]\n",
    "df = pd.DataFrame(data, columns=['Fruit', 'Count'])\n",
    "print(df)\n",
    "print()\n",
    "print(df.loc[0])\n",
    "print()\n",
    "print(df.loc[0,'Fruit'])"
   ]
  },
  {
   "cell_type": "code",
   "execution_count": 24,
   "id": "8dcefeb3",
   "metadata": {},
   "outputs": [],
   "source": [
    "del wine['quality']\n",
    "wine_norm = (wine - wine.min()) / (wine.max() - wine.min())\n",
    "wine_shuffle = wine_norm.sample(frac=1)\n",
    "wine_np = wine_shuffle.to_numpy()\n",
    "\n",
    "train_idx = int(len(wine_np) * 0.8)\n",
    "train_X, train_Y = wine_np[:train_idx, :-1], wine_np[:train_idx, -1]\n",
    "test_X, test_Y = wine_np[train_idx:, :-1], wine_np[train_idx:, -1]\n",
    "train_Y = tf.keras.utils.to_categorical(train_Y, num_classes=3)\n",
    "test_Y = tf.keras.utils.to_categorical(test_Y, num_classes=3)"
   ]
  },
  {
   "cell_type": "code",
   "execution_count": 26,
   "id": "e7a2eb08",
   "metadata": {},
   "outputs": [
    {
     "name": "stderr",
     "output_type": "stream",
     "text": [
      "/opt/homebrew/Caskroom/miniforge/base/envs/p39t27/lib/python3.9/site-packages/keras/optimizer_v2/adam.py:105: UserWarning: The `lr` argument is deprecated, use `learning_rate` instead.\n",
      "  super(Adam, self).__init__(name, **kwargs)\n",
      "2021-12-31 08:01:04.658287: I tensorflow/core/grappler/optimizers/custom_graph_optimizer_registry.cc:112] Plugin optimizer for device_type GPU is enabled.\n"
     ]
    },
    {
     "name": "stdout",
     "output_type": "stream",
     "text": [
      "Epoch 1/25\n",
      "122/122 [==============================] - ETA: 0s - loss: 0.4730 - accuracy: 0.7947"
     ]
    },
    {
     "name": "stderr",
     "output_type": "stream",
     "text": [
      "2021-12-31 08:01:05.815859: I tensorflow/core/grappler/optimizers/custom_graph_optimizer_registry.cc:112] Plugin optimizer for device_type GPU is enabled.\n"
     ]
    },
    {
     "name": "stdout",
     "output_type": "stream",
     "text": [
      "122/122 [==============================] - 1s 10ms/step - loss: 0.4730 - accuracy: 0.7947 - val_loss: 0.4522 - val_accuracy: 0.8038\n",
      "Epoch 2/25\n",
      "122/122 [==============================] - 1s 9ms/step - loss: 0.4083 - accuracy: 0.8009 - val_loss: 0.4291 - val_accuracy: 0.8038\n",
      "Epoch 3/25\n",
      "122/122 [==============================] - 1s 9ms/step - loss: 0.4039 - accuracy: 0.7968 - val_loss: 0.4445 - val_accuracy: 0.8038\n",
      "Epoch 4/25\n",
      "122/122 [==============================] - 1s 9ms/step - loss: 0.4029 - accuracy: 0.8014 - val_loss: 0.4608 - val_accuracy: 0.8162\n",
      "Epoch 5/25\n",
      "122/122 [==============================] - 1s 9ms/step - loss: 0.4061 - accuracy: 0.8050 - val_loss: 0.4348 - val_accuracy: 0.8038\n",
      "Epoch 6/25\n",
      "122/122 [==============================] - 1s 9ms/step - loss: 0.4074 - accuracy: 0.8006 - val_loss: 0.4280 - val_accuracy: 0.8038\n",
      "Epoch 7/25\n",
      "122/122 [==============================] - 1s 9ms/step - loss: 0.4041 - accuracy: 0.8032 - val_loss: 0.4258 - val_accuracy: 0.8038\n",
      "Epoch 8/25\n",
      "122/122 [==============================] - 1s 10ms/step - loss: 0.4084 - accuracy: 0.8037 - val_loss: 0.4311 - val_accuracy: 0.8038\n",
      "Epoch 9/25\n",
      "122/122 [==============================] - 1s 11ms/step - loss: 0.3995 - accuracy: 0.8063 - val_loss: 0.4574 - val_accuracy: 0.7546\n",
      "Epoch 10/25\n",
      "122/122 [==============================] - 1s 9ms/step - loss: 0.4002 - accuracy: 0.8032 - val_loss: 0.4558 - val_accuracy: 0.8038\n",
      "Epoch 11/25\n",
      "122/122 [==============================] - 1s 9ms/step - loss: 0.3926 - accuracy: 0.8004 - val_loss: 0.4222 - val_accuracy: 0.8000\n",
      "Epoch 12/25\n",
      "122/122 [==============================] - 1s 8ms/step - loss: 0.4000 - accuracy: 0.8022 - val_loss: 0.4462 - val_accuracy: 0.8038\n",
      "Epoch 13/25\n",
      "122/122 [==============================] - 1s 8ms/step - loss: 0.3941 - accuracy: 0.7998 - val_loss: 0.4298 - val_accuracy: 0.8069\n",
      "Epoch 14/25\n",
      "122/122 [==============================] - 1s 8ms/step - loss: 0.3901 - accuracy: 0.8086 - val_loss: 0.4170 - val_accuracy: 0.8038\n",
      "Epoch 15/25\n",
      "122/122 [==============================] - 1s 9ms/step - loss: 0.3879 - accuracy: 0.8104 - val_loss: 0.4239 - val_accuracy: 0.8038\n",
      "Epoch 16/25\n",
      "122/122 [==============================] - 1s 8ms/step - loss: 0.3929 - accuracy: 0.8127 - val_loss: 0.4393 - val_accuracy: 0.7977\n",
      "Epoch 17/25\n",
      "122/122 [==============================] - 1s 8ms/step - loss: 0.3906 - accuracy: 0.8122 - val_loss: 0.4180 - val_accuracy: 0.7985\n",
      "Epoch 18/25\n",
      "122/122 [==============================] - 1s 9ms/step - loss: 0.3860 - accuracy: 0.8147 - val_loss: 0.4491 - val_accuracy: 0.8038\n",
      "Epoch 19/25\n",
      "122/122 [==============================] - 1s 8ms/step - loss: 0.3889 - accuracy: 0.8068 - val_loss: 0.4275 - val_accuracy: 0.8108\n",
      "Epoch 20/25\n",
      "122/122 [==============================] - 1s 8ms/step - loss: 0.3868 - accuracy: 0.8129 - val_loss: 0.4173 - val_accuracy: 0.8185\n",
      "Epoch 21/25\n",
      "122/122 [==============================] - 1s 8ms/step - loss: 0.3876 - accuracy: 0.8109 - val_loss: 0.4146 - val_accuracy: 0.7985\n",
      "Epoch 22/25\n",
      "122/122 [==============================] - 1s 8ms/step - loss: 0.3953 - accuracy: 0.8106 - val_loss: 0.4116 - val_accuracy: 0.8100\n",
      "Epoch 23/25\n",
      "122/122 [==============================] - 1s 8ms/step - loss: 0.3881 - accuracy: 0.8165 - val_loss: 0.4331 - val_accuracy: 0.8038\n",
      "Epoch 24/25\n",
      "122/122 [==============================] - 1s 8ms/step - loss: 0.3862 - accuracy: 0.8104 - val_loss: 0.4090 - val_accuracy: 0.8038\n",
      "Epoch 25/25\n",
      "122/122 [==============================] - 1s 8ms/step - loss: 0.3864 - accuracy: 0.8165 - val_loss: 0.4575 - val_accuracy: 0.7692\n"
     ]
    }
   ],
   "source": [
    "model = tf.keras.Sequential([\n",
    "    tf.keras.layers.Dense(units=48, activation='relu', input_shape=(12,)),\n",
    "    tf.keras.layers.Dense(units=24, activation='relu'),\n",
    "    tf.keras.layers.Dense(units=12, activation='relu'),\n",
    "    tf.keras.layers.Dense(units=3, activation='softmax')\n",
    "])\n",
    "\n",
    "model.compile(optimizer=tf.keras.optimizers.Adam(lr=0.07), loss='categorical_crossentropy', metrics=['accuracy'])\n",
    "\n",
    "history = model.fit(train_X, train_Y, epochs=25, batch_size=32, validation_split=0.25)"
   ]
  },
  {
   "cell_type": "code",
   "execution_count": 27,
   "id": "0fe8ba3c",
   "metadata": {},
   "outputs": [
    {
     "data": {
      "image/png": "[encoded data removed]",
      "text/plain": [
       "<Figure size 864x288 with 2 Axes>"
      ]
     },
     "metadata": {
      "needs_background": "light"
     },
     "output_type": "display_data"
    }
   ],
   "source": [
    "import matplotlib.pyplot as plt\n",
    "plt.figure(figsize=(12,4))\n",
    "\n",
    "plt.subplot(1, 2, 1)\n",
    "plt.plot(history.history['loss'], 'b-', label='loss')\n",
    "plt.plot(history.history['val_loss'], 'r--', label='val_loss')\n",
    "plt.xlabel('Epoch')\n",
    "plt.legend()\n",
    "\n",
    "plt.subplot(1, 2, 2)\n",
    "plt.plot(history.history['accuracy'], 'g-', label='accuracy')\n",
    "plt.plot(history.history['val_accuracy'], 'k--', label='val_accuracy')\n",
    "plt.xlabel('Epoch')\n",
    "plt.ylim(0.7, 1)\n",
    "plt.legend()\n",
    "\n",
    "plt.show()"
   ]
  },
  {
   "cell_type": "code",
   "execution_count": 28,
   "id": "4f025fc8",
   "metadata": {},
   "outputs": [
    {
     "name": "stdout",
     "output_type": "stream",
     "text": [
      "41/41 [==============================] - 0s 6ms/step - loss: 0.4478 - accuracy: 0.7931\n"
     ]
    },
    {
     "data": {
      "text/plain": [
       "[0.4478406310081482, 0.7930769324302673]"
      ]
     },
     "execution_count": 28,
     "metadata": {},
     "output_type": "execute_result"
    }
   ],
   "source": [
    "model.evaluate(test_X, test_Y)"
   ]
  },
  {
   "cell_type": "code",
   "execution_count": null,
   "id": "20a1b3dd",
   "metadata": {},
   "outputs": [],
   "source": []
  }
 ],
 "metadata": {
  "kernelspec": {
   "display_name": "Python 3 (ipykernel)",
   "language": "python",
   "name": "python3"
  },
  "language_info": {
   "codemirror_mode": {
    "name": "ipython",
    "version": 3
   },
   "file_extension": ".py",
   "mimetype": "text/x-python",
   "name": "python",
   "nbconvert_exporter": "python",
   "pygments_lexer": "ipython3",
   "version": "3.9.7"
  }
 },
 "nbformat": 4,
 "nbformat_minor": 5
}
