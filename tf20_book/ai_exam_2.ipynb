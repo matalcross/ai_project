{
 "cells": [
  {
   "cell_type": "markdown",
   "id": "9543948e",
   "metadata": {},
   "source": [
    "# 보스턴 주택 가격 데이터세트"
   ]
  },
  {
   "cell_type": "code",
   "execution_count": 1,
   "id": "c9537ca4",
   "metadata": {},
   "outputs": [],
   "source": [
    "from tensorflow.keras.datasets import boston_housing\n",
    "(train_X, train_Y), (test_X, test_Y) = boston_housing.load_data()"
   ]
  },
  {
   "cell_type": "code",
   "execution_count": 2,
   "id": "3246fbe2",
   "metadata": {},
   "outputs": [
    {
     "name": "stdout",
     "output_type": "stream",
     "text": [
      "404 102\n"
     ]
    }
   ],
   "source": [
    "print(len(train_X), len(test_X))"
   ]
  },
  {
   "cell_type": "code",
   "execution_count": 3,
   "id": "35e1a488",
   "metadata": {},
   "outputs": [
    {
     "name": "stdout",
     "output_type": "stream",
     "text": [
      "[  1.23247   0.        8.14      0.        0.538     6.142    91.7\n",
      "   3.9769    4.      307.       21.      396.9      18.72   ]\n"
     ]
    }
   ],
   "source": [
    "print(train_X[0])"
   ]
  },
  {
   "cell_type": "code",
   "execution_count": 4,
   "id": "43dd8801",
   "metadata": {},
   "outputs": [
    {
     "name": "stdout",
     "output_type": "stream",
     "text": [
      "15.2\n"
     ]
    }
   ],
   "source": [
    "print(train_Y[0])"
   ]
  },
  {
   "cell_type": "code",
   "execution_count": 5,
   "id": "1ad0849c",
   "metadata": {},
   "outputs": [],
   "source": [
    "x_mean = train_X.mean(axis=0)\n",
    "x_std = train_X.std(axis=0)\n",
    "train_X -= x_mean\n",
    "train_X /= x_std\n",
    "test_X -= x_mean\n",
    "test_X /= x_std"
   ]
  },
  {
   "cell_type": "code",
   "execution_count": 6,
   "id": "ae8d27de",
   "metadata": {},
   "outputs": [],
   "source": [
    "y_mean = train_Y.mean(axis=0)\n",
    "y_std = train_Y.std(axis=0)\n",
    "train_Y -= y_mean\n",
    "train_Y /= y_std\n",
    "test_Y -= y_mean\n",
    "test_Y /= y_std"
   ]
  },
  {
   "cell_type": "code",
   "execution_count": 7,
   "id": "cc0270de",
   "metadata": {},
   "outputs": [
    {
     "name": "stdout",
     "output_type": "stream",
     "text": [
      "[-0.27224633 -0.48361547 -0.43576161 -0.25683275 -0.1652266  -0.1764426\n",
      "  0.81306188  0.1166983  -0.62624905 -0.59517003  1.14850044  0.44807713\n",
      "  0.8252202 ]\n",
      "-0.7821526033779157\n"
     ]
    }
   ],
   "source": [
    "print(train_X[0])\n",
    "print(train_Y[0])"
   ]
  },
  {
   "cell_type": "code",
   "execution_count": 9,
   "id": "ad936f75",
   "metadata": {},
   "outputs": [],
   "source": [
    "import tensorflow as tf"
   ]
  },
  {
   "cell_type": "code",
   "execution_count": 10,
   "id": "9b76be5e",
   "metadata": {},
   "outputs": [
    {
     "name": "stderr",
     "output_type": "stream",
     "text": [
      "2021-11-15 08:51:56.963787: I tensorflow/core/platform/cpu_feature_guard.cc:142] This TensorFlow binary is optimized with oneAPI Deep Neural Network Library (oneDNN) to use the following CPU instructions in performance-critical operations:  SSE4.1 SSE4.2\n",
      "To enable them in other operations, rebuild TensorFlow with the appropriate compiler flags.\n"
     ]
    }
   ],
   "source": [
    "model = tf.keras.Sequential([\n",
    "    tf.keras.layers.Dense(units=52, activation='relu', input_shape=(13,)),\n",
    "    tf.keras.layers.Dense(units=39, activation='relu'),\n",
    "    tf.keras.layers.Dense(units=26, activation='relu'),\n",
    "    tf.keras.layers.Dense(units=1)\n",
    "])"
   ]
  },
  {
   "cell_type": "code",
   "execution_count": 11,
   "id": "865a92c9",
   "metadata": {},
   "outputs": [],
   "source": [
    "model.compile(optimizer=tf.keras.optimizers.Adam(lr=0.07), loss='mse')"
   ]
  },
  {
   "cell_type": "code",
   "execution_count": 12,
   "id": "9281c214",
   "metadata": {},
   "outputs": [
    {
     "name": "stdout",
     "output_type": "stream",
     "text": [
      "Model: \"sequential\"\n",
      "_________________________________________________________________\n",
      "Layer (type)                 Output Shape              Param #   \n",
      "=================================================================\n",
      "dense (Dense)                (None, 52)                728       \n",
      "_________________________________________________________________\n",
      "dense_1 (Dense)              (None, 39)                2067      \n",
      "_________________________________________________________________\n",
      "dense_2 (Dense)              (None, 26)                1040      \n",
      "_________________________________________________________________\n",
      "dense_3 (Dense)              (None, 1)                 27        \n",
      "=================================================================\n",
      "Total params: 3,862\n",
      "Trainable params: 3,862\n",
      "Non-trainable params: 0\n",
      "_________________________________________________________________\n"
     ]
    }
   ],
   "source": [
    "model.summary()"
   ]
  },
  {
   "cell_type": "code",
   "execution_count": 13,
   "id": "08b5348b",
   "metadata": {},
   "outputs": [
    {
     "name": "stderr",
     "output_type": "stream",
     "text": [
      "2021-11-15 09:14:23.875701: I tensorflow/compiler/mlir/mlir_graph_optimization_pass.cc:116] None of the MLIR optimization passes are enabled (registered 2)\n"
     ]
    },
    {
     "name": "stdout",
     "output_type": "stream",
     "text": [
      "Epoch 1/25\n",
      "10/10 [==============================] - 0s 11ms/step - loss: 1.8689 - val_loss: 0.7844\n",
      "Epoch 2/25\n",
      "10/10 [==============================] - 0s 2ms/step - loss: 0.4818 - val_loss: 0.3441\n",
      "Epoch 3/25\n",
      "10/10 [==============================] - 0s 2ms/step - loss: 0.2269 - val_loss: 0.2585\n",
      "Epoch 4/25\n",
      "10/10 [==============================] - 0s 3ms/step - loss: 0.1442 - val_loss: 0.2397\n",
      "Epoch 5/25\n",
      "10/10 [==============================] - 0s 3ms/step - loss: 0.1489 - val_loss: 0.2442\n",
      "Epoch 6/25\n",
      "10/10 [==============================] - 0s 3ms/step - loss: 0.1660 - val_loss: 0.2787\n",
      "Epoch 7/25\n",
      "10/10 [==============================] - 0s 3ms/step - loss: 0.1258 - val_loss: 0.1792\n",
      "Epoch 8/25\n",
      "10/10 [==============================] - 0s 3ms/step - loss: 0.1393 - val_loss: 0.2733\n",
      "Epoch 9/25\n",
      "10/10 [==============================] - 0s 7ms/step - loss: 0.2052 - val_loss: 0.2262\n",
      "Epoch 10/25\n",
      "10/10 [==============================] - 0s 2ms/step - loss: 0.1737 - val_loss: 0.2199\n",
      "Epoch 11/25\n",
      "10/10 [==============================] - 0s 2ms/step - loss: 0.1025 - val_loss: 0.1988\n",
      "Epoch 12/25\n",
      "10/10 [==============================] - 0s 2ms/step - loss: 0.1168 - val_loss: 0.1597\n",
      "Epoch 13/25\n",
      "10/10 [==============================] - 0s 3ms/step - loss: 0.0934 - val_loss: 0.1666\n",
      "Epoch 14/25\n",
      "10/10 [==============================] - 0s 2ms/step - loss: 0.0925 - val_loss: 0.1726\n",
      "Epoch 15/25\n",
      "10/10 [==============================] - 0s 3ms/step - loss: 0.0885 - val_loss: 0.2461\n",
      "Epoch 16/25\n",
      "10/10 [==============================] - 0s 2ms/step - loss: 0.1150 - val_loss: 0.2327\n",
      "Epoch 17/25\n",
      "10/10 [==============================] - 0s 3ms/step - loss: 0.0823 - val_loss: 0.1802\n",
      "Epoch 18/25\n",
      "10/10 [==============================] - 0s 2ms/step - loss: 0.0926 - val_loss: 0.1554\n",
      "Epoch 19/25\n",
      "10/10 [==============================] - 0s 2ms/step - loss: 0.0895 - val_loss: 0.1933\n",
      "Epoch 20/25\n",
      "10/10 [==============================] - 0s 3ms/step - loss: 0.0865 - val_loss: 0.1720\n",
      "Epoch 21/25\n",
      "10/10 [==============================] - 0s 2ms/step - loss: 0.0697 - val_loss: 0.1680\n",
      "Epoch 22/25\n",
      "10/10 [==============================] - 0s 3ms/step - loss: 0.0662 - val_loss: 0.1562\n",
      "Epoch 23/25\n",
      "10/10 [==============================] - 0s 2ms/step - loss: 0.0718 - val_loss: 0.1555\n",
      "Epoch 24/25\n",
      "10/10 [==============================] - 0s 3ms/step - loss: 0.0689 - val_loss: 0.1419\n",
      "Epoch 25/25\n",
      "10/10 [==============================] - 0s 2ms/step - loss: 0.0583 - val_loss: 0.1180\n"
     ]
    }
   ],
   "source": [
    "history = model.fit(train_X, train_Y, epochs=25, batch_size=32, validation_split=0.25)"
   ]
  },
  {
   "cell_type": "code",
   "execution_count": 14,
   "id": "d1db7683",
   "metadata": {},
   "outputs": [
    {
     "data": {
      "image/png": "[encoded data removed]",
      "text/plain": [
       "<Figure size 432x288 with 1 Axes>"
      ]
     },
     "metadata": {
      "needs_background": "light"
     },
     "output_type": "display_data"
    }
   ],
   "source": [
    "import matplotlib.pyplot as plt\n",
    "plt.plot(history.history['loss'], 'b-', label='loss')\n",
    "plt.plot(history.history['val_loss'], 'r--', label='val_loss')\n",
    "plt.xlabel('Epoch')\n",
    "plt.legend()\n",
    "plt.show()"
   ]
  },
  {
   "cell_type": "code",
   "execution_count": 15,
   "id": "5b8efcce",
   "metadata": {},
   "outputs": [
    {
     "name": "stdout",
     "output_type": "stream",
     "text": [
      "4/4 [==============================] - 0s 983us/step - loss: 0.2778\n"
     ]
    },
    {
     "data": {
      "text/plain": [
       "0.2778494358062744"
      ]
     },
     "execution_count": 15,
     "metadata": {},
     "output_type": "execute_result"
    }
   ],
   "source": [
    "model.evaluate(test_X, test_Y)"
   ]
  },
  {
   "cell_type": "code",
   "execution_count": 16,
   "id": "a1876958",
   "metadata": {},
   "outputs": [
    {
     "data": {
      "image/png": "[encoded data removed]",
      "text/plain": [
       "<Figure size 360x360 with 1 Axes>"
      ]
     },
     "metadata": {
      "needs_background": "light"
     },
     "output_type": "display_data"
    }
   ],
   "source": [
    "pred_Y = model.predict(test_X)\n",
    "\n",
    "plt.figure(figsize=(5,5))\n",
    "plt.plot(test_Y, pred_Y, 'b.')\n",
    "plt.axis([min(test_Y), max(test_Y), min(test_Y), max(test_Y)])\n",
    "\n",
    "# y=x에 해당하는 대각선\n",
    "plt.plot([min(test_Y), max(test_Y)], [min(test_Y), max(test_Y)], ls=\"--\", c=\".3\")\n",
    "plt.xlabel('test_Y')\n",
    "plt.ylabel('pred_Y')\n",
    "\n",
    "plt.show()"
   ]
  },
  {
   "cell_type": "code",
   "execution_count": null,
   "id": "d6b4a6e9",
   "metadata": {},
   "outputs": [],
   "source": []
  }
 ],
 "metadata": {
  "kernelspec": {
   "display_name": "Python 3 (ipykernel)",
   "language": "python",
   "name": "python3"
  },
  "language_info": {
   "codemirror_mode": {
    "name": "ipython",
    "version": 3
   },
   "file_extension": ".py",
   "mimetype": "text/x-python",
   "name": "python",
   "nbconvert_exporter": "python",
   "pygments_lexer": "ipython3",
   "version": "3.7.12"
  }
 },
 "nbformat": 4,
 "nbformat_minor": 5
}
